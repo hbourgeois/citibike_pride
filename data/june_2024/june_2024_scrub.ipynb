{
 "cells": [
  {
   "cell_type": "markdown",
   "metadata": {},
   "source": [
    "import & clean raw data"
   ]
  },
  {
   "cell_type": "code",
   "execution_count": 1,
   "metadata": {},
   "outputs": [],
   "source": [
    "# import dependencies\n",
    "import os\n",
    "import pandas as pd\n",
    "import numpy as np\n",
    "import matplotlib.pyplot as plt"
   ]
  },
  {
   "cell_type": "code",
   "execution_count": 2,
   "metadata": {},
   "outputs": [
    {
     "name": "stderr",
     "output_type": "stream",
     "text": [
      "C:\\Users\\hbour\\AppData\\Local\\Temp\\ipykernel_21868\\2912557599.py:2: DtypeWarning: Columns (7) have mixed types. Specify dtype option on import or set low_memory=False.\n",
      "  june_data1 = pd.read_csv('202406-citibike-tripdata_1.csv')\n"
     ]
    },
    {
     "data": {
      "application/vnd.microsoft.datawrangler.viewer.v0+json": {
       "columns": [
        {
         "name": "index",
         "rawType": "int64",
         "type": "integer"
        },
        {
         "name": "ride_id",
         "rawType": "object",
         "type": "string"
        },
        {
         "name": "rideable_type",
         "rawType": "object",
         "type": "string"
        },
        {
         "name": "started_at",
         "rawType": "object",
         "type": "string"
        },
        {
         "name": "ended_at",
         "rawType": "object",
         "type": "string"
        },
        {
         "name": "start_station_name",
         "rawType": "object",
         "type": "string"
        },
        {
         "name": "start_station_id",
         "rawType": "object",
         "type": "string"
        },
        {
         "name": "end_station_name",
         "rawType": "object",
         "type": "string"
        },
        {
         "name": "end_station_id",
         "rawType": "object",
         "type": "string"
        },
        {
         "name": "start_lat",
         "rawType": "float64",
         "type": "float"
        },
        {
         "name": "start_lng",
         "rawType": "float64",
         "type": "float"
        },
        {
         "name": "end_lat",
         "rawType": "float64",
         "type": "float"
        },
        {
         "name": "end_lng",
         "rawType": "float64",
         "type": "float"
        },
        {
         "name": "member_casual",
         "rawType": "object",
         "type": "string"
        }
       ],
       "conversionMethod": "pd.DataFrame",
       "ref": "c899b881-63ba-4801-b893-38a095d6c3ac",
       "rows": [
        [
         "0",
         "A38B171B6C31691A",
         "electric_bike",
         "2024-06-12 17:47:23.952",
         "2024-06-12 17:50:27.312",
         "E 89 St & 3 Ave",
         "7265.10",
         "1 Ave & E 94 St",
         "7286.05",
         "40.78049922",
         "-73.952185154",
         "40.7817212",
         "-73.94594",
         "member"
        ],
        [
         "1",
         "77E13C9D6559EA56",
         "electric_bike",
         "2024-06-04 16:48:42.876",
         "2024-06-04 17:01:46.672",
         "Pier 40 - Hudson River Park",
         "5696.03",
         "W 25 St & 9 Ave",
         "6339.06",
         "40.728059649",
         "-74.011184216",
         "40.74783260583772",
         "-74.0005722643582",
         "member"
        ],
        [
         "2",
         "EA6418AD826D19D9",
         "electric_bike",
         "2024-06-01 13:36:28.502",
         "2024-06-01 13:52:55.912",
         "W 44 St & 5 Ave",
         "6551.02",
         "E 75 St & 3 Ave",
         "6991.12",
         "40.754621267",
         "-73.980640769",
         "40.77112927",
         "-73.95772297",
         "member"
        ],
        [
         "3",
         "121CF2548FB65A29",
         "classic_bike",
         "2024-06-01 03:12:09.636",
         "2024-06-01 03:16:29.531",
         "Graham Ave & Withers St",
         "5403.04",
         "Meserole Ave & Manhattan Ave",
         "5666.04",
         "40.7169811",
         "-73.94485918",
         "40.72708584",
         "-73.95299117",
         "member"
        ],
        [
         "4",
         "E6BE7FD2809649D6",
         "electric_bike",
         "2024-06-08 13:14:31.197",
         "2024-06-08 13:24:09.858",
         "E 9 St & Ave C",
         "5616.01",
         "Cleveland Pl & Spring St",
         "5492.05",
         "40.725240827",
         "-73.977735281",
         "40.722103786686034",
         "-73.99724900722504",
         "member"
        ]
       ],
       "shape": {
        "columns": 13,
        "rows": 5
       }
      },
      "text/html": [
       "<div>\n",
       "<style scoped>\n",
       "    .dataframe tbody tr th:only-of-type {\n",
       "        vertical-align: middle;\n",
       "    }\n",
       "\n",
       "    .dataframe tbody tr th {\n",
       "        vertical-align: top;\n",
       "    }\n",
       "\n",
       "    .dataframe thead th {\n",
       "        text-align: right;\n",
       "    }\n",
       "</style>\n",
       "<table border=\"1\" class=\"dataframe\">\n",
       "  <thead>\n",
       "    <tr style=\"text-align: right;\">\n",
       "      <th></th>\n",
       "      <th>ride_id</th>\n",
       "      <th>rideable_type</th>\n",
       "      <th>started_at</th>\n",
       "      <th>ended_at</th>\n",
       "      <th>start_station_name</th>\n",
       "      <th>start_station_id</th>\n",
       "      <th>end_station_name</th>\n",
       "      <th>end_station_id</th>\n",
       "      <th>start_lat</th>\n",
       "      <th>start_lng</th>\n",
       "      <th>end_lat</th>\n",
       "      <th>end_lng</th>\n",
       "      <th>member_casual</th>\n",
       "    </tr>\n",
       "  </thead>\n",
       "  <tbody>\n",
       "    <tr>\n",
       "      <th>0</th>\n",
       "      <td>A38B171B6C31691A</td>\n",
       "      <td>electric_bike</td>\n",
       "      <td>2024-06-12 17:47:23.952</td>\n",
       "      <td>2024-06-12 17:50:27.312</td>\n",
       "      <td>E 89 St &amp; 3 Ave</td>\n",
       "      <td>7265.10</td>\n",
       "      <td>1 Ave &amp; E 94 St</td>\n",
       "      <td>7286.05</td>\n",
       "      <td>40.780499</td>\n",
       "      <td>-73.952185</td>\n",
       "      <td>40.781721</td>\n",
       "      <td>-73.945940</td>\n",
       "      <td>member</td>\n",
       "    </tr>\n",
       "    <tr>\n",
       "      <th>1</th>\n",
       "      <td>77E13C9D6559EA56</td>\n",
       "      <td>electric_bike</td>\n",
       "      <td>2024-06-04 16:48:42.876</td>\n",
       "      <td>2024-06-04 17:01:46.672</td>\n",
       "      <td>Pier 40 - Hudson River Park</td>\n",
       "      <td>5696.03</td>\n",
       "      <td>W 25 St &amp; 9 Ave</td>\n",
       "      <td>6339.06</td>\n",
       "      <td>40.728060</td>\n",
       "      <td>-74.011184</td>\n",
       "      <td>40.747833</td>\n",
       "      <td>-74.000572</td>\n",
       "      <td>member</td>\n",
       "    </tr>\n",
       "    <tr>\n",
       "      <th>2</th>\n",
       "      <td>EA6418AD826D19D9</td>\n",
       "      <td>electric_bike</td>\n",
       "      <td>2024-06-01 13:36:28.502</td>\n",
       "      <td>2024-06-01 13:52:55.912</td>\n",
       "      <td>W 44 St &amp; 5 Ave</td>\n",
       "      <td>6551.02</td>\n",
       "      <td>E 75 St &amp; 3 Ave</td>\n",
       "      <td>6991.12</td>\n",
       "      <td>40.754621</td>\n",
       "      <td>-73.980641</td>\n",
       "      <td>40.771129</td>\n",
       "      <td>-73.957723</td>\n",
       "      <td>member</td>\n",
       "    </tr>\n",
       "    <tr>\n",
       "      <th>3</th>\n",
       "      <td>121CF2548FB65A29</td>\n",
       "      <td>classic_bike</td>\n",
       "      <td>2024-06-01 03:12:09.636</td>\n",
       "      <td>2024-06-01 03:16:29.531</td>\n",
       "      <td>Graham Ave &amp; Withers St</td>\n",
       "      <td>5403.04</td>\n",
       "      <td>Meserole Ave &amp; Manhattan Ave</td>\n",
       "      <td>5666.04</td>\n",
       "      <td>40.716981</td>\n",
       "      <td>-73.944859</td>\n",
       "      <td>40.727086</td>\n",
       "      <td>-73.952991</td>\n",
       "      <td>member</td>\n",
       "    </tr>\n",
       "    <tr>\n",
       "      <th>4</th>\n",
       "      <td>E6BE7FD2809649D6</td>\n",
       "      <td>electric_bike</td>\n",
       "      <td>2024-06-08 13:14:31.197</td>\n",
       "      <td>2024-06-08 13:24:09.858</td>\n",
       "      <td>E 9 St &amp; Ave C</td>\n",
       "      <td>5616.01</td>\n",
       "      <td>Cleveland Pl &amp; Spring St</td>\n",
       "      <td>5492.05</td>\n",
       "      <td>40.725241</td>\n",
       "      <td>-73.977735</td>\n",
       "      <td>40.722104</td>\n",
       "      <td>-73.997249</td>\n",
       "      <td>member</td>\n",
       "    </tr>\n",
       "  </tbody>\n",
       "</table>\n",
       "</div>"
      ],
      "text/plain": [
       "            ride_id  rideable_type               started_at  \\\n",
       "0  A38B171B6C31691A  electric_bike  2024-06-12 17:47:23.952   \n",
       "1  77E13C9D6559EA56  electric_bike  2024-06-04 16:48:42.876   \n",
       "2  EA6418AD826D19D9  electric_bike  2024-06-01 13:36:28.502   \n",
       "3  121CF2548FB65A29   classic_bike  2024-06-01 03:12:09.636   \n",
       "4  E6BE7FD2809649D6  electric_bike  2024-06-08 13:14:31.197   \n",
       "\n",
       "                  ended_at           start_station_name start_station_id  \\\n",
       "0  2024-06-12 17:50:27.312              E 89 St & 3 Ave          7265.10   \n",
       "1  2024-06-04 17:01:46.672  Pier 40 - Hudson River Park          5696.03   \n",
       "2  2024-06-01 13:52:55.912              W 44 St & 5 Ave          6551.02   \n",
       "3  2024-06-01 03:16:29.531      Graham Ave & Withers St          5403.04   \n",
       "4  2024-06-08 13:24:09.858               E 9 St & Ave C          5616.01   \n",
       "\n",
       "               end_station_name end_station_id  start_lat  start_lng  \\\n",
       "0               1 Ave & E 94 St        7286.05  40.780499 -73.952185   \n",
       "1               W 25 St & 9 Ave        6339.06  40.728060 -74.011184   \n",
       "2               E 75 St & 3 Ave        6991.12  40.754621 -73.980641   \n",
       "3  Meserole Ave & Manhattan Ave        5666.04  40.716981 -73.944859   \n",
       "4      Cleveland Pl & Spring St        5492.05  40.725241 -73.977735   \n",
       "\n",
       "     end_lat    end_lng member_casual  \n",
       "0  40.781721 -73.945940        member  \n",
       "1  40.747833 -74.000572        member  \n",
       "2  40.771129 -73.957723        member  \n",
       "3  40.727086 -73.952991        member  \n",
       "4  40.722104 -73.997249        member  "
      ]
     },
     "execution_count": 2,
     "metadata": {},
     "output_type": "execute_result"
    }
   ],
   "source": [
    "#import june 2024 data\n",
    "june_data1 = pd.read_csv('202406-citibike-tripdata_1.csv')\n",
    "\n",
    "#convert to dataframe\n",
    "june_data1_df = pd.DataFrame(june_data1)\n",
    "\n",
    "#check data\n",
    "june_data1_df.head()\n"
   ]
  },
  {
   "cell_type": "code",
   "execution_count": 3,
   "metadata": {},
   "outputs": [
    {
     "data": {
      "text/plain": [
       "ride_id                object\n",
       "rideable_type          object\n",
       "started_at             object\n",
       "ended_at               object\n",
       "start_station_name     object\n",
       "start_station_id       object\n",
       "end_station_name       object\n",
       "end_station_id         object\n",
       "start_lat             float64\n",
       "start_lng             float64\n",
       "end_lat               float64\n",
       "end_lng               float64\n",
       "member_casual          object\n",
       "dtype: object"
      ]
     },
     "execution_count": 3,
     "metadata": {},
     "output_type": "execute_result"
    }
   ],
   "source": [
    "#check data types\n",
    "june_data1_df.dtypes\n"
   ]
  },
  {
   "cell_type": "code",
   "execution_count": 4,
   "metadata": {},
   "outputs": [
    {
     "data": {
      "text/plain": [
       "ride_id                       object\n",
       "rideable_type                 object\n",
       "started_at            datetime64[ns]\n",
       "ended_at              datetime64[ns]\n",
       "start_station_name            object\n",
       "start_station_id              object\n",
       "end_station_name              object\n",
       "end_station_id                object\n",
       "start_lat                    float64\n",
       "start_lng                    float64\n",
       "end_lat                      float64\n",
       "end_lng                      float64\n",
       "member_casual                 object\n",
       "dtype: object"
      ]
     },
     "execution_count": 4,
     "metadata": {},
     "output_type": "execute_result"
    }
   ],
   "source": [
    "#convert started_at and ended_at to datetime\n",
    "june_data1_df['started_at'] = pd.to_datetime(june_data1_df['started_at'])\n",
    "june_data1_df['ended_at'] = pd.to_datetime(june_data1_df['ended_at'])\n",
    "\n",
    "#convert start_station_name and end_station_name to string\n",
    "june_data1_df['start_station_name'] = june_data1_df['start_station_name'].astype(str)\n",
    "june_data1_df['end_station_name'] = june_data1_df['end_station_name'].astype(str)\n",
    "\n",
    "#check data types\n",
    "june_data1_df.dtypes"
   ]
  },
  {
   "cell_type": "code",
   "execution_count": 5,
   "metadata": {},
   "outputs": [
    {
     "name": "stderr",
     "output_type": "stream",
     "text": [
      "C:\\Users\\hbour\\AppData\\Local\\Temp\\ipykernel_21868\\1278618002.py:2: DtypeWarning: Columns (5,7) have mixed types. Specify dtype option on import or set low_memory=False.\n",
      "  june_data2 = pd.read_csv('202406-citibike-tripdata_2.csv')\n",
      "C:\\Users\\hbour\\AppData\\Local\\Temp\\ipykernel_21868\\1278618002.py:6: DtypeWarning: Columns (5,7) have mixed types. Specify dtype option on import or set low_memory=False.\n",
      "  june_data3 = pd.read_csv('202406-citibike-tripdata_3.csv')\n",
      "C:\\Users\\hbour\\AppData\\Local\\Temp\\ipykernel_21868\\1278618002.py:10: DtypeWarning: Columns (7) have mixed types. Specify dtype option on import or set low_memory=False.\n",
      "  june_data4 = pd.read_csv('202406-citibike-tripdata_4.csv')\n",
      "C:\\Users\\hbour\\AppData\\Local\\Temp\\ipykernel_21868\\1278618002.py:13: DtypeWarning: Columns (5,7) have mixed types. Specify dtype option on import or set low_memory=False.\n",
      "  june_data5 = pd.read_csv('202406-citibike-tripdata_5.csv')\n"
     ]
    }
   ],
   "source": [
    "#repeat for the remaining csv files\n",
    "june_data2 = pd.read_csv('202406-citibike-tripdata_2.csv')\n",
    "june_data2_df = pd.DataFrame(june_data2)\n",
    "\n",
    "\n",
    "june_data3 = pd.read_csv('202406-citibike-tripdata_3.csv')\n",
    "june_data3_df = pd.DataFrame(june_data3)\n",
    "\n",
    "\n",
    "june_data4 = pd.read_csv('202406-citibike-tripdata_4.csv')\n",
    "june_data4_df = pd.DataFrame(june_data4)\n",
    "\n",
    "june_data5 = pd.read_csv('202406-citibike-tripdata_5.csv')\n",
    "june_data5_df = pd.DataFrame(june_data5)\n"
   ]
  },
  {
   "cell_type": "code",
   "execution_count": 6,
   "metadata": {},
   "outputs": [],
   "source": [
    "#change dtypes and remove missing values for remaining csv files\n",
    "\n",
    "#june_data2\n",
    "june_data2_df['started_at'] = pd.to_datetime(june_data2_df['started_at'])\n",
    "june_data2_df['ended_at'] = pd.to_datetime(june_data2_df['ended_at'])\n",
    "june_data2_df['start_station_name'] = june_data2_df['start_station_name'].astype(str)\n",
    "june_data2_df['end_station_name'] = june_data2_df['end_station_name'].astype(str)\n",
    "\n",
    "\n",
    "#june_data3\n",
    "june_data3_df['started_at'] = pd.to_datetime(june_data3_df['started_at'])\n",
    "june_data3_df['ended_at'] = pd.to_datetime(june_data3_df['ended_at'])\n",
    "june_data3_df['start_station_name'] = june_data3_df['start_station_name'].astype(str)\n",
    "june_data3_df['end_station_name'] = june_data3_df['end_station_name'].astype(str)\n",
    "\n",
    "\n",
    "#june_data4\n",
    "june_data4_df['started_at'] = pd.to_datetime(june_data4_df['started_at'])\n",
    "june_data4_df['ended_at'] = pd.to_datetime(june_data4_df['ended_at'])\n",
    "june_data4_df['start_station_name'] = june_data4_df['start_station_name'].astype(str)\n",
    "june_data4_df['end_station_name'] = june_data4_df['end_station_name'].astype(str)\n",
    "\n",
    "#june_data5\n",
    "june_data5_df['started_at'] = pd.to_datetime(june_data5_df['started_at'])\n",
    "june_data5_df['ended_at'] = pd.to_datetime(june_data5_df['ended_at'])\n",
    "june_data5_df['start_station_name'] = june_data5_df['start_station_name'].astype(str)\n",
    "june_data5_df['end_station_name'] = june_data5_df['end_station_name'].astype(str)\n"
   ]
  },
  {
   "cell_type": "code",
   "execution_count": 7,
   "metadata": {},
   "outputs": [
    {
     "data": {
      "application/vnd.microsoft.datawrangler.viewer.v0+json": {
       "columns": [
        {
         "name": "index",
         "rawType": "int64",
         "type": "integer"
        },
        {
         "name": "ride_id",
         "rawType": "object",
         "type": "string"
        },
        {
         "name": "rideable_type",
         "rawType": "object",
         "type": "string"
        },
        {
         "name": "started_at",
         "rawType": "datetime64[ns]",
         "type": "datetime"
        },
        {
         "name": "ended_at",
         "rawType": "datetime64[ns]",
         "type": "datetime"
        },
        {
         "name": "start_station_name",
         "rawType": "object",
         "type": "string"
        },
        {
         "name": "start_station_id",
         "rawType": "object",
         "type": "string"
        },
        {
         "name": "end_station_name",
         "rawType": "object",
         "type": "string"
        },
        {
         "name": "end_station_id",
         "rawType": "object",
         "type": "string"
        },
        {
         "name": "start_lat",
         "rawType": "float64",
         "type": "float"
        },
        {
         "name": "start_lng",
         "rawType": "float64",
         "type": "float"
        },
        {
         "name": "end_lat",
         "rawType": "float64",
         "type": "float"
        },
        {
         "name": "end_lng",
         "rawType": "float64",
         "type": "float"
        },
        {
         "name": "member_casual",
         "rawType": "object",
         "type": "string"
        }
       ],
       "conversionMethod": "pd.DataFrame",
       "ref": "e73089e2-0ee1-4412-9ee5-2a6f092dc04c",
       "rows": [
        [
         "0",
         "A38B171B6C31691A",
         "electric_bike",
         "2024-06-12 17:47:23.952000",
         "2024-06-12 17:50:27.312000",
         "E 89 St & 3 Ave",
         "7265.10",
         "1 Ave & E 94 St",
         "7286.05",
         "40.78049922",
         "-73.952185154",
         "40.7817212",
         "-73.94594",
         "member"
        ],
        [
         "1",
         "77E13C9D6559EA56",
         "electric_bike",
         "2024-06-04 16:48:42.876000",
         "2024-06-04 17:01:46.672000",
         "Pier 40 - Hudson River Park",
         "5696.03",
         "W 25 St & 9 Ave",
         "6339.06",
         "40.728059649",
         "-74.011184216",
         "40.74783260583772",
         "-74.0005722643582",
         "member"
        ],
        [
         "2",
         "EA6418AD826D19D9",
         "electric_bike",
         "2024-06-01 13:36:28.502000",
         "2024-06-01 13:52:55.912000",
         "W 44 St & 5 Ave",
         "6551.02",
         "E 75 St & 3 Ave",
         "6991.12",
         "40.754621267",
         "-73.980640769",
         "40.77112927",
         "-73.95772297",
         "member"
        ],
        [
         "3",
         "121CF2548FB65A29",
         "classic_bike",
         "2024-06-01 03:12:09.636000",
         "2024-06-01 03:16:29.531000",
         "Graham Ave & Withers St",
         "5403.04",
         "Meserole Ave & Manhattan Ave",
         "5666.04",
         "40.7169811",
         "-73.94485918",
         "40.72708584",
         "-73.95299117",
         "member"
        ],
        [
         "4",
         "E6BE7FD2809649D6",
         "electric_bike",
         "2024-06-08 13:14:31.197000",
         "2024-06-08 13:24:09.858000",
         "E 9 St & Ave C",
         "5616.01",
         "Cleveland Pl & Spring St",
         "5492.05",
         "40.725240827",
         "-73.977735281",
         "40.722103786686034",
         "-73.99724900722504",
         "member"
        ]
       ],
       "shape": {
        "columns": 13,
        "rows": 5
       }
      },
      "text/html": [
       "<div>\n",
       "<style scoped>\n",
       "    .dataframe tbody tr th:only-of-type {\n",
       "        vertical-align: middle;\n",
       "    }\n",
       "\n",
       "    .dataframe tbody tr th {\n",
       "        vertical-align: top;\n",
       "    }\n",
       "\n",
       "    .dataframe thead th {\n",
       "        text-align: right;\n",
       "    }\n",
       "</style>\n",
       "<table border=\"1\" class=\"dataframe\">\n",
       "  <thead>\n",
       "    <tr style=\"text-align: right;\">\n",
       "      <th></th>\n",
       "      <th>ride_id</th>\n",
       "      <th>rideable_type</th>\n",
       "      <th>started_at</th>\n",
       "      <th>ended_at</th>\n",
       "      <th>start_station_name</th>\n",
       "      <th>start_station_id</th>\n",
       "      <th>end_station_name</th>\n",
       "      <th>end_station_id</th>\n",
       "      <th>start_lat</th>\n",
       "      <th>start_lng</th>\n",
       "      <th>end_lat</th>\n",
       "      <th>end_lng</th>\n",
       "      <th>member_casual</th>\n",
       "    </tr>\n",
       "  </thead>\n",
       "  <tbody>\n",
       "    <tr>\n",
       "      <th>0</th>\n",
       "      <td>A38B171B6C31691A</td>\n",
       "      <td>electric_bike</td>\n",
       "      <td>2024-06-12 17:47:23.952</td>\n",
       "      <td>2024-06-12 17:50:27.312</td>\n",
       "      <td>E 89 St &amp; 3 Ave</td>\n",
       "      <td>7265.10</td>\n",
       "      <td>1 Ave &amp; E 94 St</td>\n",
       "      <td>7286.05</td>\n",
       "      <td>40.780499</td>\n",
       "      <td>-73.952185</td>\n",
       "      <td>40.781721</td>\n",
       "      <td>-73.945940</td>\n",
       "      <td>member</td>\n",
       "    </tr>\n",
       "    <tr>\n",
       "      <th>1</th>\n",
       "      <td>77E13C9D6559EA56</td>\n",
       "      <td>electric_bike</td>\n",
       "      <td>2024-06-04 16:48:42.876</td>\n",
       "      <td>2024-06-04 17:01:46.672</td>\n",
       "      <td>Pier 40 - Hudson River Park</td>\n",
       "      <td>5696.03</td>\n",
       "      <td>W 25 St &amp; 9 Ave</td>\n",
       "      <td>6339.06</td>\n",
       "      <td>40.728060</td>\n",
       "      <td>-74.011184</td>\n",
       "      <td>40.747833</td>\n",
       "      <td>-74.000572</td>\n",
       "      <td>member</td>\n",
       "    </tr>\n",
       "    <tr>\n",
       "      <th>2</th>\n",
       "      <td>EA6418AD826D19D9</td>\n",
       "      <td>electric_bike</td>\n",
       "      <td>2024-06-01 13:36:28.502</td>\n",
       "      <td>2024-06-01 13:52:55.912</td>\n",
       "      <td>W 44 St &amp; 5 Ave</td>\n",
       "      <td>6551.02</td>\n",
       "      <td>E 75 St &amp; 3 Ave</td>\n",
       "      <td>6991.12</td>\n",
       "      <td>40.754621</td>\n",
       "      <td>-73.980641</td>\n",
       "      <td>40.771129</td>\n",
       "      <td>-73.957723</td>\n",
       "      <td>member</td>\n",
       "    </tr>\n",
       "    <tr>\n",
       "      <th>3</th>\n",
       "      <td>121CF2548FB65A29</td>\n",
       "      <td>classic_bike</td>\n",
       "      <td>2024-06-01 03:12:09.636</td>\n",
       "      <td>2024-06-01 03:16:29.531</td>\n",
       "      <td>Graham Ave &amp; Withers St</td>\n",
       "      <td>5403.04</td>\n",
       "      <td>Meserole Ave &amp; Manhattan Ave</td>\n",
       "      <td>5666.04</td>\n",
       "      <td>40.716981</td>\n",
       "      <td>-73.944859</td>\n",
       "      <td>40.727086</td>\n",
       "      <td>-73.952991</td>\n",
       "      <td>member</td>\n",
       "    </tr>\n",
       "    <tr>\n",
       "      <th>4</th>\n",
       "      <td>E6BE7FD2809649D6</td>\n",
       "      <td>electric_bike</td>\n",
       "      <td>2024-06-08 13:14:31.197</td>\n",
       "      <td>2024-06-08 13:24:09.858</td>\n",
       "      <td>E 9 St &amp; Ave C</td>\n",
       "      <td>5616.01</td>\n",
       "      <td>Cleveland Pl &amp; Spring St</td>\n",
       "      <td>5492.05</td>\n",
       "      <td>40.725241</td>\n",
       "      <td>-73.977735</td>\n",
       "      <td>40.722104</td>\n",
       "      <td>-73.997249</td>\n",
       "      <td>member</td>\n",
       "    </tr>\n",
       "  </tbody>\n",
       "</table>\n",
       "</div>"
      ],
      "text/plain": [
       "            ride_id  rideable_type              started_at  \\\n",
       "0  A38B171B6C31691A  electric_bike 2024-06-12 17:47:23.952   \n",
       "1  77E13C9D6559EA56  electric_bike 2024-06-04 16:48:42.876   \n",
       "2  EA6418AD826D19D9  electric_bike 2024-06-01 13:36:28.502   \n",
       "3  121CF2548FB65A29   classic_bike 2024-06-01 03:12:09.636   \n",
       "4  E6BE7FD2809649D6  electric_bike 2024-06-08 13:14:31.197   \n",
       "\n",
       "                 ended_at           start_station_name start_station_id  \\\n",
       "0 2024-06-12 17:50:27.312              E 89 St & 3 Ave          7265.10   \n",
       "1 2024-06-04 17:01:46.672  Pier 40 - Hudson River Park          5696.03   \n",
       "2 2024-06-01 13:52:55.912              W 44 St & 5 Ave          6551.02   \n",
       "3 2024-06-01 03:16:29.531      Graham Ave & Withers St          5403.04   \n",
       "4 2024-06-08 13:24:09.858               E 9 St & Ave C          5616.01   \n",
       "\n",
       "               end_station_name end_station_id  start_lat  start_lng  \\\n",
       "0               1 Ave & E 94 St        7286.05  40.780499 -73.952185   \n",
       "1               W 25 St & 9 Ave        6339.06  40.728060 -74.011184   \n",
       "2               E 75 St & 3 Ave        6991.12  40.754621 -73.980641   \n",
       "3  Meserole Ave & Manhattan Ave        5666.04  40.716981 -73.944859   \n",
       "4      Cleveland Pl & Spring St        5492.05  40.725241 -73.977735   \n",
       "\n",
       "     end_lat    end_lng member_casual  \n",
       "0  40.781721 -73.945940        member  \n",
       "1  40.747833 -74.000572        member  \n",
       "2  40.771129 -73.957723        member  \n",
       "3  40.727086 -73.952991        member  \n",
       "4  40.722104 -73.997249        member  "
      ]
     },
     "execution_count": 7,
     "metadata": {},
     "output_type": "execute_result"
    }
   ],
   "source": [
    "#concatenate all dataframes\n",
    "june_data_df = pd.concat([june_data1_df, june_data2_df, june_data3_df, june_data4_df, june_data5_df])\n",
    "\n",
    "#check data\n",
    "june_data_df.head()"
   ]
  },
  {
   "cell_type": "markdown",
   "metadata": {},
   "source": [
    "Isolate the data to show Citibike usage during the weekend of NYC Pride Festival 2024\n",
    "June 28, 2024 - June 30, 2024"
   ]
  },
  {
   "cell_type": "code",
   "execution_count": 8,
   "metadata": {},
   "outputs": [
    {
     "data": {
      "application/vnd.microsoft.datawrangler.viewer.v0+json": {
       "columns": [
        {
         "name": "index",
         "rawType": "int64",
         "type": "integer"
        },
        {
         "name": "ride_id",
         "rawType": "object",
         "type": "string"
        },
        {
         "name": "rideable_type",
         "rawType": "object",
         "type": "string"
        },
        {
         "name": "started_at",
         "rawType": "datetime64[ns]",
         "type": "datetime"
        },
        {
         "name": "ended_at",
         "rawType": "datetime64[ns]",
         "type": "datetime"
        },
        {
         "name": "start_station_name",
         "rawType": "object",
         "type": "string"
        },
        {
         "name": "start_station_id",
         "rawType": "object",
         "type": "string"
        },
        {
         "name": "end_station_name",
         "rawType": "object",
         "type": "string"
        },
        {
         "name": "end_station_id",
         "rawType": "object",
         "type": "string"
        },
        {
         "name": "start_lat",
         "rawType": "float64",
         "type": "float"
        },
        {
         "name": "start_lng",
         "rawType": "float64",
         "type": "float"
        },
        {
         "name": "end_lat",
         "rawType": "float64",
         "type": "float"
        },
        {
         "name": "end_lng",
         "rawType": "float64",
         "type": "float"
        },
        {
         "name": "member_casual",
         "rawType": "object",
         "type": "string"
        }
       ],
       "conversionMethod": "pd.DataFrame",
       "ref": "d737be55-6ee1-4981-b211-72754b668e30",
       "rows": [
        [
         "249240",
         "1E89FB71E4427631",
         "electric_bike",
         "2024-06-30 02:15:05.286000",
         "2024-06-30 02:28:20.009000",
         "W 87 St & Amsterdam Ave",
         "7458.03",
         "Broadway & W 142 St",
         "7981.16",
         "40.788517356",
         "-73.974876881",
         "40.824686",
         "-73.951947",
         "member"
        ],
        [
         "249242",
         "92B37908AA3C6433",
         "electric_bike",
         "2024-06-29 22:59:06.136000",
         "2024-06-29 23:12:09.872000",
         "W 87 St & Amsterdam Ave",
         "7458.03",
         "E 74 St & 1 Ave",
         "6953.08",
         "40.788409352",
         "-73.974710584",
         "40.7689738",
         "-73.95482273",
         "member"
        ],
        [
         "249261",
         "8E4893748E625FD8",
         "electric_bike",
         "2024-06-30 19:40:21.538000",
         "2024-06-30 20:32:15.297000",
         "Waverly Ave & Lafayette Ave",
         "4461.07",
         "Waverly Ave & Lafayette Ave",
         "4461.07",
         "40.68812573",
         "-73.966817379",
         "40.688231",
         "-73.966804",
         "member"
        ],
        [
         "249268",
         "8FFF2F844A68A70B",
         "classic_bike",
         "2024-06-30 17:16:46.966000",
         "2024-06-30 17:23:10.358000",
         "E 10 St & 2 Ave",
         "5746.02",
         "E 1 St & Bowery",
         "5636.13",
         "40.72970805644994",
         "-73.9865979552269",
         "40.72486122254819",
         "-73.99213135242462",
         "member"
        ],
        [
         "249274",
         "571A08FF3AB95DDC",
         "electric_bike",
         "2024-06-30 10:22:15.173000",
         "2024-06-30 10:29:21.093000",
         "W 30 St & 8 Ave",
         "6373.07",
         "W 56 St & 8 Ave",
         "6884.03",
         "40.749669552",
         "-73.995100379",
         "40.765959181657976",
         "-73.98313522338867",
         "member"
        ]
       ],
       "shape": {
        "columns": 13,
        "rows": 5
       }
      },
      "text/html": [
       "<div>\n",
       "<style scoped>\n",
       "    .dataframe tbody tr th:only-of-type {\n",
       "        vertical-align: middle;\n",
       "    }\n",
       "\n",
       "    .dataframe tbody tr th {\n",
       "        vertical-align: top;\n",
       "    }\n",
       "\n",
       "    .dataframe thead th {\n",
       "        text-align: right;\n",
       "    }\n",
       "</style>\n",
       "<table border=\"1\" class=\"dataframe\">\n",
       "  <thead>\n",
       "    <tr style=\"text-align: right;\">\n",
       "      <th></th>\n",
       "      <th>ride_id</th>\n",
       "      <th>rideable_type</th>\n",
       "      <th>started_at</th>\n",
       "      <th>ended_at</th>\n",
       "      <th>start_station_name</th>\n",
       "      <th>start_station_id</th>\n",
       "      <th>end_station_name</th>\n",
       "      <th>end_station_id</th>\n",
       "      <th>start_lat</th>\n",
       "      <th>start_lng</th>\n",
       "      <th>end_lat</th>\n",
       "      <th>end_lng</th>\n",
       "      <th>member_casual</th>\n",
       "    </tr>\n",
       "  </thead>\n",
       "  <tbody>\n",
       "    <tr>\n",
       "      <th>249240</th>\n",
       "      <td>1E89FB71E4427631</td>\n",
       "      <td>electric_bike</td>\n",
       "      <td>2024-06-30 02:15:05.286</td>\n",
       "      <td>2024-06-30 02:28:20.009</td>\n",
       "      <td>W 87 St &amp; Amsterdam Ave</td>\n",
       "      <td>7458.03</td>\n",
       "      <td>Broadway &amp; W 142 St</td>\n",
       "      <td>7981.16</td>\n",
       "      <td>40.788517</td>\n",
       "      <td>-73.974877</td>\n",
       "      <td>40.824686</td>\n",
       "      <td>-73.951947</td>\n",
       "      <td>member</td>\n",
       "    </tr>\n",
       "    <tr>\n",
       "      <th>249242</th>\n",
       "      <td>92B37908AA3C6433</td>\n",
       "      <td>electric_bike</td>\n",
       "      <td>2024-06-29 22:59:06.136</td>\n",
       "      <td>2024-06-29 23:12:09.872</td>\n",
       "      <td>W 87 St &amp; Amsterdam Ave</td>\n",
       "      <td>7458.03</td>\n",
       "      <td>E 74 St &amp; 1 Ave</td>\n",
       "      <td>6953.08</td>\n",
       "      <td>40.788409</td>\n",
       "      <td>-73.974711</td>\n",
       "      <td>40.768974</td>\n",
       "      <td>-73.954823</td>\n",
       "      <td>member</td>\n",
       "    </tr>\n",
       "    <tr>\n",
       "      <th>249261</th>\n",
       "      <td>8E4893748E625FD8</td>\n",
       "      <td>electric_bike</td>\n",
       "      <td>2024-06-30 19:40:21.538</td>\n",
       "      <td>2024-06-30 20:32:15.297</td>\n",
       "      <td>Waverly Ave &amp; Lafayette Ave</td>\n",
       "      <td>4461.07</td>\n",
       "      <td>Waverly Ave &amp; Lafayette Ave</td>\n",
       "      <td>4461.07</td>\n",
       "      <td>40.688126</td>\n",
       "      <td>-73.966817</td>\n",
       "      <td>40.688231</td>\n",
       "      <td>-73.966804</td>\n",
       "      <td>member</td>\n",
       "    </tr>\n",
       "    <tr>\n",
       "      <th>249268</th>\n",
       "      <td>8FFF2F844A68A70B</td>\n",
       "      <td>classic_bike</td>\n",
       "      <td>2024-06-30 17:16:46.966</td>\n",
       "      <td>2024-06-30 17:23:10.358</td>\n",
       "      <td>E 10 St &amp; 2 Ave</td>\n",
       "      <td>5746.02</td>\n",
       "      <td>E 1 St &amp; Bowery</td>\n",
       "      <td>5636.13</td>\n",
       "      <td>40.729708</td>\n",
       "      <td>-73.986598</td>\n",
       "      <td>40.724861</td>\n",
       "      <td>-73.992131</td>\n",
       "      <td>member</td>\n",
       "    </tr>\n",
       "    <tr>\n",
       "      <th>249274</th>\n",
       "      <td>571A08FF3AB95DDC</td>\n",
       "      <td>electric_bike</td>\n",
       "      <td>2024-06-30 10:22:15.173</td>\n",
       "      <td>2024-06-30 10:29:21.093</td>\n",
       "      <td>W 30 St &amp; 8 Ave</td>\n",
       "      <td>6373.07</td>\n",
       "      <td>W 56 St &amp; 8 Ave</td>\n",
       "      <td>6884.03</td>\n",
       "      <td>40.749670</td>\n",
       "      <td>-73.995100</td>\n",
       "      <td>40.765959</td>\n",
       "      <td>-73.983135</td>\n",
       "      <td>member</td>\n",
       "    </tr>\n",
       "  </tbody>\n",
       "</table>\n",
       "</div>"
      ],
      "text/plain": [
       "                 ride_id  rideable_type              started_at  \\\n",
       "249240  1E89FB71E4427631  electric_bike 2024-06-30 02:15:05.286   \n",
       "249242  92B37908AA3C6433  electric_bike 2024-06-29 22:59:06.136   \n",
       "249261  8E4893748E625FD8  electric_bike 2024-06-30 19:40:21.538   \n",
       "249268  8FFF2F844A68A70B   classic_bike 2024-06-30 17:16:46.966   \n",
       "249274  571A08FF3AB95DDC  electric_bike 2024-06-30 10:22:15.173   \n",
       "\n",
       "                      ended_at           start_station_name start_station_id  \\\n",
       "249240 2024-06-30 02:28:20.009      W 87 St & Amsterdam Ave          7458.03   \n",
       "249242 2024-06-29 23:12:09.872      W 87 St & Amsterdam Ave          7458.03   \n",
       "249261 2024-06-30 20:32:15.297  Waverly Ave & Lafayette Ave          4461.07   \n",
       "249268 2024-06-30 17:23:10.358              E 10 St & 2 Ave          5746.02   \n",
       "249274 2024-06-30 10:29:21.093              W 30 St & 8 Ave          6373.07   \n",
       "\n",
       "                   end_station_name end_station_id  start_lat  start_lng  \\\n",
       "249240          Broadway & W 142 St        7981.16  40.788517 -73.974877   \n",
       "249242              E 74 St & 1 Ave        6953.08  40.788409 -73.974711   \n",
       "249261  Waverly Ave & Lafayette Ave        4461.07  40.688126 -73.966817   \n",
       "249268              E 1 St & Bowery        5636.13  40.729708 -73.986598   \n",
       "249274              W 56 St & 8 Ave        6884.03  40.749670 -73.995100   \n",
       "\n",
       "          end_lat    end_lng member_casual  \n",
       "249240  40.824686 -73.951947        member  \n",
       "249242  40.768974 -73.954823        member  \n",
       "249261  40.688231 -73.966804        member  \n",
       "249268  40.724861 -73.992131        member  \n",
       "249274  40.765959 -73.983135        member  "
      ]
     },
     "execution_count": 8,
     "metadata": {},
     "output_type": "execute_result"
    }
   ],
   "source": [
    "#isloate data for specified date range\n",
    "pride_weekend_2024 = june_data_df[(june_data_df['started_at'] >= '2024-06-28 00:00:00') & (june_data_df['ended_at'] <= '2024-06-30 23:59:59')]\n",
    "pride_weekend_2024.head()"
   ]
  },
  {
   "cell_type": "code",
   "execution_count": 9,
   "metadata": {},
   "outputs": [],
   "source": [
    "#export to csv\n",
    "pride_weekend_2024.to_csv('pride_2024.csv', index=False)"
   ]
  }
 ],
 "metadata": {
  "kernelspec": {
   "display_name": "dev_boot",
   "language": "python",
   "name": "python3"
  },
  "language_info": {
   "codemirror_mode": {
    "name": "ipython",
    "version": 3
   },
   "file_extension": ".py",
   "mimetype": "text/x-python",
   "name": "python",
   "nbconvert_exporter": "python",
   "pygments_lexer": "ipython3",
   "version": "3.10.14"
  }
 },
 "nbformat": 4,
 "nbformat_minor": 2
}
