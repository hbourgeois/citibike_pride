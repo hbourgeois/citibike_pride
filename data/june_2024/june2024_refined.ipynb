{
 "cells": [
  {
   "cell_type": "code",
   "execution_count": 1,
   "metadata": {},
   "outputs": [],
   "source": [
    "#import dependencies\n",
    "import os\n",
    "import csv\n",
    "import pandas as pd\n",
    "import numpy as np"
   ]
  },
  {
   "cell_type": "code",
   "execution_count": 2,
   "metadata": {},
   "outputs": [
    {
     "name": "stderr",
     "output_type": "stream",
     "text": [
      "C:\\Users\\hbour\\AppData\\Local\\Temp\\ipykernel_11404\\3701557884.py:2: DtypeWarning: Columns (7) have mixed types. Specify dtype option on import or set low_memory=False.\n",
      "  pride_2024 = pd.read_csv('pride_2024.csv')\n"
     ]
    },
    {
     "data": {
      "application/vnd.microsoft.datawrangler.viewer.v0+json": {
       "columns": [
        {
         "name": "index",
         "rawType": "int64",
         "type": "integer"
        },
        {
         "name": "ride_id",
         "rawType": "object",
         "type": "string"
        },
        {
         "name": "rideable_type",
         "rawType": "object",
         "type": "string"
        },
        {
         "name": "started_at",
         "rawType": "object",
         "type": "string"
        },
        {
         "name": "ended_at",
         "rawType": "object",
         "type": "string"
        },
        {
         "name": "start_station_name",
         "rawType": "object",
         "type": "string"
        },
        {
         "name": "start_station_id",
         "rawType": "object",
         "type": "string"
        },
        {
         "name": "end_station_name",
         "rawType": "object",
         "type": "string"
        },
        {
         "name": "end_station_id",
         "rawType": "object",
         "type": "string"
        },
        {
         "name": "start_lat",
         "rawType": "float64",
         "type": "float"
        },
        {
         "name": "start_lng",
         "rawType": "float64",
         "type": "float"
        },
        {
         "name": "end_lat",
         "rawType": "float64",
         "type": "float"
        },
        {
         "name": "end_lng",
         "rawType": "float64",
         "type": "float"
        },
        {
         "name": "member_casual",
         "rawType": "object",
         "type": "string"
        }
       ],
       "conversionMethod": "pd.DataFrame",
       "ref": "6d41c5a0-ff34-4c64-ac18-c97c79c54bab",
       "rows": [
        [
         "0",
         "1E89FB71E4427631",
         "electric_bike",
         "2024-06-30 02:15:05.286",
         "2024-06-30 02:28:20.009",
         "W 87 St & Amsterdam Ave",
         "7458.03",
         "Broadway & W 142 St",
         "7981.16",
         "40.788517356",
         "-73.974876881",
         "40.824686",
         "-73.951947",
         "member"
        ],
        [
         "1",
         "92B37908AA3C6433",
         "electric_bike",
         "2024-06-29 22:59:06.136",
         "2024-06-29 23:12:09.872",
         "W 87 St & Amsterdam Ave",
         "7458.03",
         "E 74 St & 1 Ave",
         "6953.08",
         "40.788409352",
         "-73.974710584",
         "40.7689738",
         "-73.95482273",
         "member"
        ],
        [
         "2",
         "8E4893748E625FD8",
         "electric_bike",
         "2024-06-30 19:40:21.538",
         "2024-06-30 20:32:15.297",
         "Waverly Ave & Lafayette Ave",
         "4461.07",
         "Waverly Ave & Lafayette Ave",
         "4461.07",
         "40.68812573",
         "-73.966817379",
         "40.688231",
         "-73.966804",
         "member"
        ],
        [
         "3",
         "8FFF2F844A68A70B",
         "classic_bike",
         "2024-06-30 17:16:46.966",
         "2024-06-30 17:23:10.358",
         "E 10 St & 2 Ave",
         "5746.02",
         "E 1 St & Bowery",
         "5636.13",
         "40.72970805644994",
         "-73.9865979552269",
         "40.72486122254819",
         "-73.99213135242462",
         "member"
        ],
        [
         "4",
         "571A08FF3AB95DDC",
         "electric_bike",
         "2024-06-30 10:22:15.173",
         "2024-06-30 10:29:21.093",
         "W 30 St & 8 Ave",
         "6373.07",
         "W 56 St & 8 Ave",
         "6884.03",
         "40.749669552",
         "-73.995100379",
         "40.765959181657976",
         "-73.98313522338867",
         "member"
        ]
       ],
       "shape": {
        "columns": 13,
        "rows": 5
       }
      },
      "text/html": [
       "<div>\n",
       "<style scoped>\n",
       "    .dataframe tbody tr th:only-of-type {\n",
       "        vertical-align: middle;\n",
       "    }\n",
       "\n",
       "    .dataframe tbody tr th {\n",
       "        vertical-align: top;\n",
       "    }\n",
       "\n",
       "    .dataframe thead th {\n",
       "        text-align: right;\n",
       "    }\n",
       "</style>\n",
       "<table border=\"1\" class=\"dataframe\">\n",
       "  <thead>\n",
       "    <tr style=\"text-align: right;\">\n",
       "      <th></th>\n",
       "      <th>ride_id</th>\n",
       "      <th>rideable_type</th>\n",
       "      <th>started_at</th>\n",
       "      <th>ended_at</th>\n",
       "      <th>start_station_name</th>\n",
       "      <th>start_station_id</th>\n",
       "      <th>end_station_name</th>\n",
       "      <th>end_station_id</th>\n",
       "      <th>start_lat</th>\n",
       "      <th>start_lng</th>\n",
       "      <th>end_lat</th>\n",
       "      <th>end_lng</th>\n",
       "      <th>member_casual</th>\n",
       "    </tr>\n",
       "  </thead>\n",
       "  <tbody>\n",
       "    <tr>\n",
       "      <th>0</th>\n",
       "      <td>1E89FB71E4427631</td>\n",
       "      <td>electric_bike</td>\n",
       "      <td>2024-06-30 02:15:05.286</td>\n",
       "      <td>2024-06-30 02:28:20.009</td>\n",
       "      <td>W 87 St &amp; Amsterdam Ave</td>\n",
       "      <td>7458.03</td>\n",
       "      <td>Broadway &amp; W 142 St</td>\n",
       "      <td>7981.16</td>\n",
       "      <td>40.788517</td>\n",
       "      <td>-73.974877</td>\n",
       "      <td>40.824686</td>\n",
       "      <td>-73.951947</td>\n",
       "      <td>member</td>\n",
       "    </tr>\n",
       "    <tr>\n",
       "      <th>1</th>\n",
       "      <td>92B37908AA3C6433</td>\n",
       "      <td>electric_bike</td>\n",
       "      <td>2024-06-29 22:59:06.136</td>\n",
       "      <td>2024-06-29 23:12:09.872</td>\n",
       "      <td>W 87 St &amp; Amsterdam Ave</td>\n",
       "      <td>7458.03</td>\n",
       "      <td>E 74 St &amp; 1 Ave</td>\n",
       "      <td>6953.08</td>\n",
       "      <td>40.788409</td>\n",
       "      <td>-73.974711</td>\n",
       "      <td>40.768974</td>\n",
       "      <td>-73.954823</td>\n",
       "      <td>member</td>\n",
       "    </tr>\n",
       "    <tr>\n",
       "      <th>2</th>\n",
       "      <td>8E4893748E625FD8</td>\n",
       "      <td>electric_bike</td>\n",
       "      <td>2024-06-30 19:40:21.538</td>\n",
       "      <td>2024-06-30 20:32:15.297</td>\n",
       "      <td>Waverly Ave &amp; Lafayette Ave</td>\n",
       "      <td>4461.07</td>\n",
       "      <td>Waverly Ave &amp; Lafayette Ave</td>\n",
       "      <td>4461.07</td>\n",
       "      <td>40.688126</td>\n",
       "      <td>-73.966817</td>\n",
       "      <td>40.688231</td>\n",
       "      <td>-73.966804</td>\n",
       "      <td>member</td>\n",
       "    </tr>\n",
       "    <tr>\n",
       "      <th>3</th>\n",
       "      <td>8FFF2F844A68A70B</td>\n",
       "      <td>classic_bike</td>\n",
       "      <td>2024-06-30 17:16:46.966</td>\n",
       "      <td>2024-06-30 17:23:10.358</td>\n",
       "      <td>E 10 St &amp; 2 Ave</td>\n",
       "      <td>5746.02</td>\n",
       "      <td>E 1 St &amp; Bowery</td>\n",
       "      <td>5636.13</td>\n",
       "      <td>40.729708</td>\n",
       "      <td>-73.986598</td>\n",
       "      <td>40.724861</td>\n",
       "      <td>-73.992131</td>\n",
       "      <td>member</td>\n",
       "    </tr>\n",
       "    <tr>\n",
       "      <th>4</th>\n",
       "      <td>571A08FF3AB95DDC</td>\n",
       "      <td>electric_bike</td>\n",
       "      <td>2024-06-30 10:22:15.173</td>\n",
       "      <td>2024-06-30 10:29:21.093</td>\n",
       "      <td>W 30 St &amp; 8 Ave</td>\n",
       "      <td>6373.07</td>\n",
       "      <td>W 56 St &amp; 8 Ave</td>\n",
       "      <td>6884.03</td>\n",
       "      <td>40.749670</td>\n",
       "      <td>-73.995100</td>\n",
       "      <td>40.765959</td>\n",
       "      <td>-73.983135</td>\n",
       "      <td>member</td>\n",
       "    </tr>\n",
       "  </tbody>\n",
       "</table>\n",
       "</div>"
      ],
      "text/plain": [
       "            ride_id  rideable_type               started_at  \\\n",
       "0  1E89FB71E4427631  electric_bike  2024-06-30 02:15:05.286   \n",
       "1  92B37908AA3C6433  electric_bike  2024-06-29 22:59:06.136   \n",
       "2  8E4893748E625FD8  electric_bike  2024-06-30 19:40:21.538   \n",
       "3  8FFF2F844A68A70B   classic_bike  2024-06-30 17:16:46.966   \n",
       "4  571A08FF3AB95DDC  electric_bike  2024-06-30 10:22:15.173   \n",
       "\n",
       "                  ended_at           start_station_name start_station_id  \\\n",
       "0  2024-06-30 02:28:20.009      W 87 St & Amsterdam Ave          7458.03   \n",
       "1  2024-06-29 23:12:09.872      W 87 St & Amsterdam Ave          7458.03   \n",
       "2  2024-06-30 20:32:15.297  Waverly Ave & Lafayette Ave          4461.07   \n",
       "3  2024-06-30 17:23:10.358              E 10 St & 2 Ave          5746.02   \n",
       "4  2024-06-30 10:29:21.093              W 30 St & 8 Ave          6373.07   \n",
       "\n",
       "              end_station_name end_station_id  start_lat  start_lng  \\\n",
       "0          Broadway & W 142 St        7981.16  40.788517 -73.974877   \n",
       "1              E 74 St & 1 Ave        6953.08  40.788409 -73.974711   \n",
       "2  Waverly Ave & Lafayette Ave        4461.07  40.688126 -73.966817   \n",
       "3              E 1 St & Bowery        5636.13  40.729708 -73.986598   \n",
       "4              W 56 St & 8 Ave        6884.03  40.749670 -73.995100   \n",
       "\n",
       "     end_lat    end_lng member_casual  \n",
       "0  40.824686 -73.951947        member  \n",
       "1  40.768974 -73.954823        member  \n",
       "2  40.688231 -73.966804        member  \n",
       "3  40.724861 -73.992131        member  \n",
       "4  40.765959 -73.983135        member  "
      ]
     },
     "execution_count": 2,
     "metadata": {},
     "output_type": "execute_result"
    }
   ],
   "source": [
    "#read in csv file\n",
    "pride_2024 = pd.read_csv('pride_2024.csv')\n",
    "pride_2024.head()"
   ]
  },
  {
   "cell_type": "code",
   "execution_count": 3,
   "metadata": {},
   "outputs": [],
   "source": [
    "#convert csv to dataframe\n",
    "pride_2024_df = pd.DataFrame(pride_2024)\n",
    "\n",
    "#convert started_at column to datetime\n",
    "pride_2024_df['started_at'] = pd.to_datetime(pride_2024_df['started_at'])\n",
    "\n",
    "#convert ended_at column to datetime\n",
    "pride_2024_df['ended_at'] = pd.to_datetime(pride_2024_df['ended_at'])"
   ]
  },
  {
   "cell_type": "code",
   "execution_count": 4,
   "metadata": {},
   "outputs": [],
   "source": [
    "#split started_at column into date and time\n",
    "pride_2024_df['start_date'] = pride_2024_df['started_at'].dt.date\n",
    "pride_2024_df['start_time'] = pride_2024_df['started_at'].dt.time\n",
    "\n",
    "#split ended_at column into date and time\n",
    "pride_2024_df['end_date'] = pride_2024_df['ended_at'].dt.date\n",
    "pride_2024_df['end_time'] = pride_2024_df['ended_at'].dt.time\n",
    "\n",
    "#drop started_at and ended_at columns\n",
    "pride_2024_df = pride_2024_df.drop(columns=['started_at', 'ended_at'])"
   ]
  },
  {
   "cell_type": "code",
   "execution_count": 7,
   "metadata": {},
   "outputs": [
    {
     "name": "stderr",
     "output_type": "stream",
     "text": [
      "C:\\Users\\hbour\\AppData\\Local\\Temp\\ipykernel_11404\\4261617757.py:2: UserWarning: Could not infer format, so each element will be parsed individually, falling back to `dateutil`. To ensure parsing is consistent and as-expected, please specify a format.\n",
      "  pride_2024_df['duration'] = (pd.to_datetime(pride_2024_df['end_time'].astype(str)) - pd.to_datetime(pride_2024_df['start_time'].astype(str)))\n",
      "C:\\Users\\hbour\\AppData\\Local\\Temp\\ipykernel_11404\\4261617757.py:2: UserWarning: Could not infer format, so each element will be parsed individually, falling back to `dateutil`. To ensure parsing is consistent and as-expected, please specify a format.\n",
      "  pride_2024_df['duration'] = (pd.to_datetime(pride_2024_df['end_time'].astype(str)) - pd.to_datetime(pride_2024_df['start_time'].astype(str)))\n"
     ]
    }
   ],
   "source": [
    "#create a column for the duration of the event\n",
    "pride_2024_df['duration'] = (pd.to_datetime(pride_2024_df['end_time'].astype(str)) - pd.to_datetime(pride_2024_df['start_time'].astype(str)))\n",
    "\n",
    "\n"
   ]
  },
  {
   "cell_type": "code",
   "execution_count": 8,
   "metadata": {},
   "outputs": [],
   "source": [
    "#convert duration to minutes\n",
    "pride_2024_df['duration'] = pride_2024_df['duration'].dt.total_seconds() / 60\n",
    "\n",
    "#convert duration to an integer\n",
    "pride_2024_df['duration'] = pride_2024_df['duration'].astype(int)"
   ]
  },
  {
   "cell_type": "code",
   "execution_count": 9,
   "metadata": {},
   "outputs": [
    {
     "data": {
      "application/vnd.microsoft.datawrangler.viewer.v0+json": {
       "columns": [
        {
         "name": "index",
         "rawType": "int64",
         "type": "integer"
        },
        {
         "name": "ride_id",
         "rawType": "object",
         "type": "string"
        },
        {
         "name": "rideable_type",
         "rawType": "object",
         "type": "string"
        },
        {
         "name": "start_station_name",
         "rawType": "object",
         "type": "string"
        },
        {
         "name": "start_station_id",
         "rawType": "object",
         "type": "string"
        },
        {
         "name": "end_station_name",
         "rawType": "object",
         "type": "string"
        },
        {
         "name": "end_station_id",
         "rawType": "object",
         "type": "string"
        },
        {
         "name": "start_lat",
         "rawType": "float64",
         "type": "float"
        },
        {
         "name": "start_lng",
         "rawType": "float64",
         "type": "float"
        },
        {
         "name": "end_lat",
         "rawType": "float64",
         "type": "float"
        },
        {
         "name": "end_lng",
         "rawType": "float64",
         "type": "float"
        },
        {
         "name": "member_casual",
         "rawType": "object",
         "type": "string"
        },
        {
         "name": "start_date",
         "rawType": "object",
         "type": "unknown"
        },
        {
         "name": "start_time",
         "rawType": "object",
         "type": "unknown"
        },
        {
         "name": "end_date",
         "rawType": "object",
         "type": "unknown"
        },
        {
         "name": "end_time",
         "rawType": "object",
         "type": "unknown"
        },
        {
         "name": "duration",
         "rawType": "int32",
         "type": "integer"
        }
       ],
       "conversionMethod": "pd.DataFrame",
       "ref": "596c63e7-bf5f-4f3a-8d9b-1d2fba68b8bf",
       "rows": [
        [
         "0",
         "1E89FB71E4427631",
         "electric_bike",
         "W 87 St & Amsterdam Ave",
         "7458.03",
         "Broadway & W 142 St",
         "7981.16",
         "40.788517356",
         "-73.974876881",
         "40.824686",
         "-73.951947",
         "member",
         "2024-06-30",
         "02:15:05.286000",
         "2024-06-30",
         "02:28:20.009000",
         "13"
        ],
        [
         "1",
         "92B37908AA3C6433",
         "electric_bike",
         "W 87 St & Amsterdam Ave",
         "7458.03",
         "E 74 St & 1 Ave",
         "6953.08",
         "40.788409352",
         "-73.974710584",
         "40.7689738",
         "-73.95482273",
         "member",
         "2024-06-29",
         "22:59:06.136000",
         "2024-06-29",
         "23:12:09.872000",
         "13"
        ],
        [
         "2",
         "8E4893748E625FD8",
         "electric_bike",
         "Waverly Ave & Lafayette Ave",
         "4461.07",
         "Waverly Ave & Lafayette Ave",
         "4461.07",
         "40.68812573",
         "-73.966817379",
         "40.688231",
         "-73.966804",
         "member",
         "2024-06-30",
         "19:40:21.538000",
         "2024-06-30",
         "20:32:15.297000",
         "51"
        ],
        [
         "3",
         "8FFF2F844A68A70B",
         "classic_bike",
         "E 10 St & 2 Ave",
         "5746.02",
         "E 1 St & Bowery",
         "5636.13",
         "40.72970805644994",
         "-73.9865979552269",
         "40.72486122254819",
         "-73.99213135242462",
         "member",
         "2024-06-30",
         "17:16:46.966000",
         "2024-06-30",
         "17:23:10.358000",
         "6"
        ],
        [
         "4",
         "571A08FF3AB95DDC",
         "electric_bike",
         "W 30 St & 8 Ave",
         "6373.07",
         "W 56 St & 8 Ave",
         "6884.03",
         "40.749669552",
         "-73.995100379",
         "40.765959181657976",
         "-73.98313522338867",
         "member",
         "2024-06-30",
         "10:22:15.173000",
         "2024-06-30",
         "10:29:21.093000",
         "7"
        ]
       ],
       "shape": {
        "columns": 16,
        "rows": 5
       }
      },
      "text/html": [
       "<div>\n",
       "<style scoped>\n",
       "    .dataframe tbody tr th:only-of-type {\n",
       "        vertical-align: middle;\n",
       "    }\n",
       "\n",
       "    .dataframe tbody tr th {\n",
       "        vertical-align: top;\n",
       "    }\n",
       "\n",
       "    .dataframe thead th {\n",
       "        text-align: right;\n",
       "    }\n",
       "</style>\n",
       "<table border=\"1\" class=\"dataframe\">\n",
       "  <thead>\n",
       "    <tr style=\"text-align: right;\">\n",
       "      <th></th>\n",
       "      <th>ride_id</th>\n",
       "      <th>rideable_type</th>\n",
       "      <th>start_station_name</th>\n",
       "      <th>start_station_id</th>\n",
       "      <th>end_station_name</th>\n",
       "      <th>end_station_id</th>\n",
       "      <th>start_lat</th>\n",
       "      <th>start_lng</th>\n",
       "      <th>end_lat</th>\n",
       "      <th>end_lng</th>\n",
       "      <th>member_casual</th>\n",
       "      <th>start_date</th>\n",
       "      <th>start_time</th>\n",
       "      <th>end_date</th>\n",
       "      <th>end_time</th>\n",
       "      <th>duration</th>\n",
       "    </tr>\n",
       "  </thead>\n",
       "  <tbody>\n",
       "    <tr>\n",
       "      <th>0</th>\n",
       "      <td>1E89FB71E4427631</td>\n",
       "      <td>electric_bike</td>\n",
       "      <td>W 87 St &amp; Amsterdam Ave</td>\n",
       "      <td>7458.03</td>\n",
       "      <td>Broadway &amp; W 142 St</td>\n",
       "      <td>7981.16</td>\n",
       "      <td>40.788517</td>\n",
       "      <td>-73.974877</td>\n",
       "      <td>40.824686</td>\n",
       "      <td>-73.951947</td>\n",
       "      <td>member</td>\n",
       "      <td>2024-06-30</td>\n",
       "      <td>02:15:05.286000</td>\n",
       "      <td>2024-06-30</td>\n",
       "      <td>02:28:20.009000</td>\n",
       "      <td>13</td>\n",
       "    </tr>\n",
       "    <tr>\n",
       "      <th>1</th>\n",
       "      <td>92B37908AA3C6433</td>\n",
       "      <td>electric_bike</td>\n",
       "      <td>W 87 St &amp; Amsterdam Ave</td>\n",
       "      <td>7458.03</td>\n",
       "      <td>E 74 St &amp; 1 Ave</td>\n",
       "      <td>6953.08</td>\n",
       "      <td>40.788409</td>\n",
       "      <td>-73.974711</td>\n",
       "      <td>40.768974</td>\n",
       "      <td>-73.954823</td>\n",
       "      <td>member</td>\n",
       "      <td>2024-06-29</td>\n",
       "      <td>22:59:06.136000</td>\n",
       "      <td>2024-06-29</td>\n",
       "      <td>23:12:09.872000</td>\n",
       "      <td>13</td>\n",
       "    </tr>\n",
       "    <tr>\n",
       "      <th>2</th>\n",
       "      <td>8E4893748E625FD8</td>\n",
       "      <td>electric_bike</td>\n",
       "      <td>Waverly Ave &amp; Lafayette Ave</td>\n",
       "      <td>4461.07</td>\n",
       "      <td>Waverly Ave &amp; Lafayette Ave</td>\n",
       "      <td>4461.07</td>\n",
       "      <td>40.688126</td>\n",
       "      <td>-73.966817</td>\n",
       "      <td>40.688231</td>\n",
       "      <td>-73.966804</td>\n",
       "      <td>member</td>\n",
       "      <td>2024-06-30</td>\n",
       "      <td>19:40:21.538000</td>\n",
       "      <td>2024-06-30</td>\n",
       "      <td>20:32:15.297000</td>\n",
       "      <td>51</td>\n",
       "    </tr>\n",
       "    <tr>\n",
       "      <th>3</th>\n",
       "      <td>8FFF2F844A68A70B</td>\n",
       "      <td>classic_bike</td>\n",
       "      <td>E 10 St &amp; 2 Ave</td>\n",
       "      <td>5746.02</td>\n",
       "      <td>E 1 St &amp; Bowery</td>\n",
       "      <td>5636.13</td>\n",
       "      <td>40.729708</td>\n",
       "      <td>-73.986598</td>\n",
       "      <td>40.724861</td>\n",
       "      <td>-73.992131</td>\n",
       "      <td>member</td>\n",
       "      <td>2024-06-30</td>\n",
       "      <td>17:16:46.966000</td>\n",
       "      <td>2024-06-30</td>\n",
       "      <td>17:23:10.358000</td>\n",
       "      <td>6</td>\n",
       "    </tr>\n",
       "    <tr>\n",
       "      <th>4</th>\n",
       "      <td>571A08FF3AB95DDC</td>\n",
       "      <td>electric_bike</td>\n",
       "      <td>W 30 St &amp; 8 Ave</td>\n",
       "      <td>6373.07</td>\n",
       "      <td>W 56 St &amp; 8 Ave</td>\n",
       "      <td>6884.03</td>\n",
       "      <td>40.749670</td>\n",
       "      <td>-73.995100</td>\n",
       "      <td>40.765959</td>\n",
       "      <td>-73.983135</td>\n",
       "      <td>member</td>\n",
       "      <td>2024-06-30</td>\n",
       "      <td>10:22:15.173000</td>\n",
       "      <td>2024-06-30</td>\n",
       "      <td>10:29:21.093000</td>\n",
       "      <td>7</td>\n",
       "    </tr>\n",
       "  </tbody>\n",
       "</table>\n",
       "</div>"
      ],
      "text/plain": [
       "            ride_id  rideable_type           start_station_name  \\\n",
       "0  1E89FB71E4427631  electric_bike      W 87 St & Amsterdam Ave   \n",
       "1  92B37908AA3C6433  electric_bike      W 87 St & Amsterdam Ave   \n",
       "2  8E4893748E625FD8  electric_bike  Waverly Ave & Lafayette Ave   \n",
       "3  8FFF2F844A68A70B   classic_bike              E 10 St & 2 Ave   \n",
       "4  571A08FF3AB95DDC  electric_bike              W 30 St & 8 Ave   \n",
       "\n",
       "  start_station_id             end_station_name end_station_id  start_lat  \\\n",
       "0          7458.03          Broadway & W 142 St        7981.16  40.788517   \n",
       "1          7458.03              E 74 St & 1 Ave        6953.08  40.788409   \n",
       "2          4461.07  Waverly Ave & Lafayette Ave        4461.07  40.688126   \n",
       "3          5746.02              E 1 St & Bowery        5636.13  40.729708   \n",
       "4          6373.07              W 56 St & 8 Ave        6884.03  40.749670   \n",
       "\n",
       "   start_lng    end_lat    end_lng member_casual  start_date       start_time  \\\n",
       "0 -73.974877  40.824686 -73.951947        member  2024-06-30  02:15:05.286000   \n",
       "1 -73.974711  40.768974 -73.954823        member  2024-06-29  22:59:06.136000   \n",
       "2 -73.966817  40.688231 -73.966804        member  2024-06-30  19:40:21.538000   \n",
       "3 -73.986598  40.724861 -73.992131        member  2024-06-30  17:16:46.966000   \n",
       "4 -73.995100  40.765959 -73.983135        member  2024-06-30  10:22:15.173000   \n",
       "\n",
       "     end_date         end_time  duration  \n",
       "0  2024-06-30  02:28:20.009000        13  \n",
       "1  2024-06-29  23:12:09.872000        13  \n",
       "2  2024-06-30  20:32:15.297000        51  \n",
       "3  2024-06-30  17:23:10.358000         6  \n",
       "4  2024-06-30  10:29:21.093000         7  "
      ]
     },
     "execution_count": 9,
     "metadata": {},
     "output_type": "execute_result"
    }
   ],
   "source": [
    "#display dataframe\n",
    "pride_2024_df.head()"
   ]
  },
  {
   "cell_type": "code",
   "execution_count": 10,
   "metadata": {},
   "outputs": [
    {
     "data": {
      "application/vnd.microsoft.datawrangler.viewer.v0+json": {
       "columns": [
        {
         "name": "index",
         "rawType": "int64",
         "type": "integer"
        },
        {
         "name": "ride_id",
         "rawType": "object",
         "type": "string"
        },
        {
         "name": "rideable_type",
         "rawType": "object",
         "type": "string"
        },
        {
         "name": "duration",
         "rawType": "int32",
         "type": "integer"
        },
        {
         "name": "start_date",
         "rawType": "object",
         "type": "unknown"
        },
        {
         "name": "start_time",
         "rawType": "object",
         "type": "unknown"
        },
        {
         "name": "end_date",
         "rawType": "object",
         "type": "unknown"
        },
        {
         "name": "end_time",
         "rawType": "object",
         "type": "unknown"
        },
        {
         "name": "start_station_name",
         "rawType": "object",
         "type": "string"
        },
        {
         "name": "end_station_name",
         "rawType": "object",
         "type": "string"
        },
        {
         "name": "member_casual",
         "rawType": "object",
         "type": "string"
        }
       ],
       "conversionMethod": "pd.DataFrame",
       "ref": "4680062b-5643-4a96-b37d-38030e355a87",
       "rows": [
        [
         "0",
         "1E89FB71E4427631",
         "electric_bike",
         "13",
         "2024-06-30",
         "02:15:05.286000",
         "2024-06-30",
         "02:28:20.009000",
         "W 87 St & Amsterdam Ave",
         "Broadway & W 142 St",
         "member"
        ],
        [
         "1",
         "92B37908AA3C6433",
         "electric_bike",
         "13",
         "2024-06-29",
         "22:59:06.136000",
         "2024-06-29",
         "23:12:09.872000",
         "W 87 St & Amsterdam Ave",
         "E 74 St & 1 Ave",
         "member"
        ],
        [
         "2",
         "8E4893748E625FD8",
         "electric_bike",
         "51",
         "2024-06-30",
         "19:40:21.538000",
         "2024-06-30",
         "20:32:15.297000",
         "Waverly Ave & Lafayette Ave",
         "Waverly Ave & Lafayette Ave",
         "member"
        ],
        [
         "3",
         "8FFF2F844A68A70B",
         "classic_bike",
         "6",
         "2024-06-30",
         "17:16:46.966000",
         "2024-06-30",
         "17:23:10.358000",
         "E 10 St & 2 Ave",
         "E 1 St & Bowery",
         "member"
        ],
        [
         "4",
         "571A08FF3AB95DDC",
         "electric_bike",
         "7",
         "2024-06-30",
         "10:22:15.173000",
         "2024-06-30",
         "10:29:21.093000",
         "W 30 St & 8 Ave",
         "W 56 St & 8 Ave",
         "member"
        ]
       ],
       "shape": {
        "columns": 10,
        "rows": 5
       }
      },
      "text/html": [
       "<div>\n",
       "<style scoped>\n",
       "    .dataframe tbody tr th:only-of-type {\n",
       "        vertical-align: middle;\n",
       "    }\n",
       "\n",
       "    .dataframe tbody tr th {\n",
       "        vertical-align: top;\n",
       "    }\n",
       "\n",
       "    .dataframe thead th {\n",
       "        text-align: right;\n",
       "    }\n",
       "</style>\n",
       "<table border=\"1\" class=\"dataframe\">\n",
       "  <thead>\n",
       "    <tr style=\"text-align: right;\">\n",
       "      <th></th>\n",
       "      <th>ride_id</th>\n",
       "      <th>rideable_type</th>\n",
       "      <th>duration</th>\n",
       "      <th>start_date</th>\n",
       "      <th>start_time</th>\n",
       "      <th>end_date</th>\n",
       "      <th>end_time</th>\n",
       "      <th>start_station_name</th>\n",
       "      <th>end_station_name</th>\n",
       "      <th>member_casual</th>\n",
       "    </tr>\n",
       "  </thead>\n",
       "  <tbody>\n",
       "    <tr>\n",
       "      <th>0</th>\n",
       "      <td>1E89FB71E4427631</td>\n",
       "      <td>electric_bike</td>\n",
       "      <td>13</td>\n",
       "      <td>2024-06-30</td>\n",
       "      <td>02:15:05.286000</td>\n",
       "      <td>2024-06-30</td>\n",
       "      <td>02:28:20.009000</td>\n",
       "      <td>W 87 St &amp; Amsterdam Ave</td>\n",
       "      <td>Broadway &amp; W 142 St</td>\n",
       "      <td>member</td>\n",
       "    </tr>\n",
       "    <tr>\n",
       "      <th>1</th>\n",
       "      <td>92B37908AA3C6433</td>\n",
       "      <td>electric_bike</td>\n",
       "      <td>13</td>\n",
       "      <td>2024-06-29</td>\n",
       "      <td>22:59:06.136000</td>\n",
       "      <td>2024-06-29</td>\n",
       "      <td>23:12:09.872000</td>\n",
       "      <td>W 87 St &amp; Amsterdam Ave</td>\n",
       "      <td>E 74 St &amp; 1 Ave</td>\n",
       "      <td>member</td>\n",
       "    </tr>\n",
       "    <tr>\n",
       "      <th>2</th>\n",
       "      <td>8E4893748E625FD8</td>\n",
       "      <td>electric_bike</td>\n",
       "      <td>51</td>\n",
       "      <td>2024-06-30</td>\n",
       "      <td>19:40:21.538000</td>\n",
       "      <td>2024-06-30</td>\n",
       "      <td>20:32:15.297000</td>\n",
       "      <td>Waverly Ave &amp; Lafayette Ave</td>\n",
       "      <td>Waverly Ave &amp; Lafayette Ave</td>\n",
       "      <td>member</td>\n",
       "    </tr>\n",
       "    <tr>\n",
       "      <th>3</th>\n",
       "      <td>8FFF2F844A68A70B</td>\n",
       "      <td>classic_bike</td>\n",
       "      <td>6</td>\n",
       "      <td>2024-06-30</td>\n",
       "      <td>17:16:46.966000</td>\n",
       "      <td>2024-06-30</td>\n",
       "      <td>17:23:10.358000</td>\n",
       "      <td>E 10 St &amp; 2 Ave</td>\n",
       "      <td>E 1 St &amp; Bowery</td>\n",
       "      <td>member</td>\n",
       "    </tr>\n",
       "    <tr>\n",
       "      <th>4</th>\n",
       "      <td>571A08FF3AB95DDC</td>\n",
       "      <td>electric_bike</td>\n",
       "      <td>7</td>\n",
       "      <td>2024-06-30</td>\n",
       "      <td>10:22:15.173000</td>\n",
       "      <td>2024-06-30</td>\n",
       "      <td>10:29:21.093000</td>\n",
       "      <td>W 30 St &amp; 8 Ave</td>\n",
       "      <td>W 56 St &amp; 8 Ave</td>\n",
       "      <td>member</td>\n",
       "    </tr>\n",
       "  </tbody>\n",
       "</table>\n",
       "</div>"
      ],
      "text/plain": [
       "            ride_id  rideable_type  duration  start_date       start_time  \\\n",
       "0  1E89FB71E4427631  electric_bike        13  2024-06-30  02:15:05.286000   \n",
       "1  92B37908AA3C6433  electric_bike        13  2024-06-29  22:59:06.136000   \n",
       "2  8E4893748E625FD8  electric_bike        51  2024-06-30  19:40:21.538000   \n",
       "3  8FFF2F844A68A70B   classic_bike         6  2024-06-30  17:16:46.966000   \n",
       "4  571A08FF3AB95DDC  electric_bike         7  2024-06-30  10:22:15.173000   \n",
       "\n",
       "     end_date         end_time           start_station_name  \\\n",
       "0  2024-06-30  02:28:20.009000      W 87 St & Amsterdam Ave   \n",
       "1  2024-06-29  23:12:09.872000      W 87 St & Amsterdam Ave   \n",
       "2  2024-06-30  20:32:15.297000  Waverly Ave & Lafayette Ave   \n",
       "3  2024-06-30  17:23:10.358000              E 10 St & 2 Ave   \n",
       "4  2024-06-30  10:29:21.093000              W 30 St & 8 Ave   \n",
       "\n",
       "              end_station_name member_casual  \n",
       "0          Broadway & W 142 St        member  \n",
       "1              E 74 St & 1 Ave        member  \n",
       "2  Waverly Ave & Lafayette Ave        member  \n",
       "3              E 1 St & Bowery        member  \n",
       "4              W 56 St & 8 Ave        member  "
      ]
     },
     "execution_count": 10,
     "metadata": {},
     "output_type": "execute_result"
    }
   ],
   "source": [
    "#change the name of the * values in the rideable_type column to \"next gen\"\n",
    "pride_2024_df['rideable_type'] = pride_2024_df['rideable_type'].replace('*', 'next gen')\n",
    "\n",
    "#reorder columns\n",
    "pride_2024_df = pride_2024_df[['ride_id', 'rideable_type', 'duration', 'start_date', 'start_time', 'end_date', 'end_time', 'start_station_name', 'end_station_name', 'member_casual']]\n",
    "pride_2024_df.head()"
   ]
  },
  {
   "cell_type": "code",
   "execution_count": 11,
   "metadata": {},
   "outputs": [],
   "source": [
    "#export dataframe to csv\n",
    "pride_2024_df.to_csv('pride_2024_clean.csv', index=False)\n"
   ]
  }
 ],
 "metadata": {
  "kernelspec": {
   "display_name": "dev_boot",
   "language": "python",
   "name": "python3"
  },
  "language_info": {
   "codemirror_mode": {
    "name": "ipython",
    "version": 3
   },
   "file_extension": ".py",
   "mimetype": "text/x-python",
   "name": "python",
   "nbconvert_exporter": "python",
   "pygments_lexer": "ipython3",
   "version": "3.10.14"
  }
 },
 "nbformat": 4,
 "nbformat_minor": 2
}
