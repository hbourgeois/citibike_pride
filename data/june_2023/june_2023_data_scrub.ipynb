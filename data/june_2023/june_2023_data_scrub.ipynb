{
 "cells": [
  {
   "cell_type": "markdown",
   "metadata": {},
   "source": [
    "import & clean raw data"
   ]
  },
  {
   "cell_type": "code",
   "execution_count": 1,
   "metadata": {},
   "outputs": [],
   "source": [
    "# import dependencies\n",
    "import os\n",
    "import pandas as pd\n",
    "import numpy as np\n",
    "import matplotlib.pyplot as plt"
   ]
  },
  {
   "cell_type": "code",
   "execution_count": 2,
   "metadata": {},
   "outputs": [
    {
     "name": "stderr",
     "output_type": "stream",
     "text": [
      "C:\\Users\\hbour\\AppData\\Local\\Temp\\ipykernel_22132\\1263985695.py:2: DtypeWarning: Columns (5,7) have mixed types. Specify dtype option on import or set low_memory=False.\n",
      "  june_data1 = pd.read_csv('202306-citibike-tripdata_1.csv')\n"
     ]
    },
    {
     "data": {
      "application/vnd.microsoft.datawrangler.viewer.v0+json": {
       "columns": [
        {
         "name": "index",
         "rawType": "int64",
         "type": "integer"
        },
        {
         "name": "ride_id",
         "rawType": "object",
         "type": "string"
        },
        {
         "name": "rideable_type",
         "rawType": "object",
         "type": "string"
        },
        {
         "name": "started_at",
         "rawType": "object",
         "type": "string"
        },
        {
         "name": "ended_at",
         "rawType": "object",
         "type": "string"
        },
        {
         "name": "start_station_name",
         "rawType": "object",
         "type": "string"
        },
        {
         "name": "start_station_id",
         "rawType": "object",
         "type": "unknown"
        },
        {
         "name": "end_station_name",
         "rawType": "object",
         "type": "string"
        },
        {
         "name": "end_station_id",
         "rawType": "object",
         "type": "string"
        },
        {
         "name": "start_lat",
         "rawType": "float64",
         "type": "float"
        },
        {
         "name": "start_lng",
         "rawType": "float64",
         "type": "float"
        },
        {
         "name": "end_lat",
         "rawType": "float64",
         "type": "float"
        },
        {
         "name": "end_lng",
         "rawType": "float64",
         "type": "float"
        },
        {
         "name": "member_casual",
         "rawType": "object",
         "type": "string"
        }
       ],
       "conversionMethod": "pd.DataFrame",
       "ref": "0a43bc0f-3c60-44ae-a925-3276b7ea4d94",
       "rows": [
        [
         "0",
         "42AB78322C5F0831",
         "classic_bike",
         "2023-06-13 08:34:46.657",
         "2023-06-13 08:43:31.038",
         "W 20 St & 10 Ave",
         "6306.01",
         "5 Ave & E 29 St",
         "6248.06",
         "40.745686",
         "-74.005141",
         "40.7451677",
         "-73.98683077",
         "member"
        ],
        [
         "1",
         "101B095C96F84BD5",
         "classic_bike",
         "2023-06-02 16:19:09.639",
         "2023-06-02 16:28:59.511",
         "W 20 St & 10 Ave",
         "6306.01",
         "5 Ave & E 29 St",
         "6248.06",
         "40.745686",
         "-74.005141",
         "40.7451677",
         "-73.98683077",
         "member"
        ],
        [
         "2",
         "88752D6D71719632",
         "electric_bike",
         "2023-06-18 18:24:00.836",
         "2023-06-18 18:46:14.601",
         "W 54 St & 9 Ave",
         "6920.03",
         "Mott St & Prince St",
         "5561.04",
         "40.765825033",
         "-73.98660481",
         "40.72317958",
         "-73.99480012",
         "member"
        ],
        [
         "3",
         "8131A3E9C9B9D706",
         "electric_bike",
         "2023-06-20 16:41:37.460",
         "2023-06-20 16:46:17.126",
         "Lafayette St & Grand St",
         "5422.09",
         "Allen St & Rivington St",
         "5414.06",
         "40.720402598",
         "-73.998831034",
         "40.72019576",
         "-73.98997825",
         "member"
        ],
        [
         "4",
         "9599302368098F9D",
         "classic_bike",
         "2023-06-16 20:30:31.648",
         "2023-06-16 20:36:52.546",
         "Lafayette St & Grand St",
         "5422.09",
         "Allen St & Rivington St",
         "5414.06",
         "40.72028",
         "-73.99879",
         "40.72019576",
         "-73.98997825",
         "member"
        ]
       ],
       "shape": {
        "columns": 13,
        "rows": 5
       }
      },
      "text/html": [
       "<div>\n",
       "<style scoped>\n",
       "    .dataframe tbody tr th:only-of-type {\n",
       "        vertical-align: middle;\n",
       "    }\n",
       "\n",
       "    .dataframe tbody tr th {\n",
       "        vertical-align: top;\n",
       "    }\n",
       "\n",
       "    .dataframe thead th {\n",
       "        text-align: right;\n",
       "    }\n",
       "</style>\n",
       "<table border=\"1\" class=\"dataframe\">\n",
       "  <thead>\n",
       "    <tr style=\"text-align: right;\">\n",
       "      <th></th>\n",
       "      <th>ride_id</th>\n",
       "      <th>rideable_type</th>\n",
       "      <th>started_at</th>\n",
       "      <th>ended_at</th>\n",
       "      <th>start_station_name</th>\n",
       "      <th>start_station_id</th>\n",
       "      <th>end_station_name</th>\n",
       "      <th>end_station_id</th>\n",
       "      <th>start_lat</th>\n",
       "      <th>start_lng</th>\n",
       "      <th>end_lat</th>\n",
       "      <th>end_lng</th>\n",
       "      <th>member_casual</th>\n",
       "    </tr>\n",
       "  </thead>\n",
       "  <tbody>\n",
       "    <tr>\n",
       "      <th>0</th>\n",
       "      <td>42AB78322C5F0831</td>\n",
       "      <td>classic_bike</td>\n",
       "      <td>2023-06-13 08:34:46.657</td>\n",
       "      <td>2023-06-13 08:43:31.038</td>\n",
       "      <td>W 20 St &amp; 10 Ave</td>\n",
       "      <td>6306.01</td>\n",
       "      <td>5 Ave &amp; E 29 St</td>\n",
       "      <td>6248.06</td>\n",
       "      <td>40.745686</td>\n",
       "      <td>-74.005141</td>\n",
       "      <td>40.745168</td>\n",
       "      <td>-73.986831</td>\n",
       "      <td>member</td>\n",
       "    </tr>\n",
       "    <tr>\n",
       "      <th>1</th>\n",
       "      <td>101B095C96F84BD5</td>\n",
       "      <td>classic_bike</td>\n",
       "      <td>2023-06-02 16:19:09.639</td>\n",
       "      <td>2023-06-02 16:28:59.511</td>\n",
       "      <td>W 20 St &amp; 10 Ave</td>\n",
       "      <td>6306.01</td>\n",
       "      <td>5 Ave &amp; E 29 St</td>\n",
       "      <td>6248.06</td>\n",
       "      <td>40.745686</td>\n",
       "      <td>-74.005141</td>\n",
       "      <td>40.745168</td>\n",
       "      <td>-73.986831</td>\n",
       "      <td>member</td>\n",
       "    </tr>\n",
       "    <tr>\n",
       "      <th>2</th>\n",
       "      <td>88752D6D71719632</td>\n",
       "      <td>electric_bike</td>\n",
       "      <td>2023-06-18 18:24:00.836</td>\n",
       "      <td>2023-06-18 18:46:14.601</td>\n",
       "      <td>W 54 St &amp; 9 Ave</td>\n",
       "      <td>6920.03</td>\n",
       "      <td>Mott St &amp; Prince St</td>\n",
       "      <td>5561.04</td>\n",
       "      <td>40.765825</td>\n",
       "      <td>-73.986605</td>\n",
       "      <td>40.723180</td>\n",
       "      <td>-73.994800</td>\n",
       "      <td>member</td>\n",
       "    </tr>\n",
       "    <tr>\n",
       "      <th>3</th>\n",
       "      <td>8131A3E9C9B9D706</td>\n",
       "      <td>electric_bike</td>\n",
       "      <td>2023-06-20 16:41:37.460</td>\n",
       "      <td>2023-06-20 16:46:17.126</td>\n",
       "      <td>Lafayette St &amp; Grand St</td>\n",
       "      <td>5422.09</td>\n",
       "      <td>Allen St &amp; Rivington St</td>\n",
       "      <td>5414.06</td>\n",
       "      <td>40.720403</td>\n",
       "      <td>-73.998831</td>\n",
       "      <td>40.720196</td>\n",
       "      <td>-73.989978</td>\n",
       "      <td>member</td>\n",
       "    </tr>\n",
       "    <tr>\n",
       "      <th>4</th>\n",
       "      <td>9599302368098F9D</td>\n",
       "      <td>classic_bike</td>\n",
       "      <td>2023-06-16 20:30:31.648</td>\n",
       "      <td>2023-06-16 20:36:52.546</td>\n",
       "      <td>Lafayette St &amp; Grand St</td>\n",
       "      <td>5422.09</td>\n",
       "      <td>Allen St &amp; Rivington St</td>\n",
       "      <td>5414.06</td>\n",
       "      <td>40.720280</td>\n",
       "      <td>-73.998790</td>\n",
       "      <td>40.720196</td>\n",
       "      <td>-73.989978</td>\n",
       "      <td>member</td>\n",
       "    </tr>\n",
       "  </tbody>\n",
       "</table>\n",
       "</div>"
      ],
      "text/plain": [
       "            ride_id  rideable_type               started_at  \\\n",
       "0  42AB78322C5F0831   classic_bike  2023-06-13 08:34:46.657   \n",
       "1  101B095C96F84BD5   classic_bike  2023-06-02 16:19:09.639   \n",
       "2  88752D6D71719632  electric_bike  2023-06-18 18:24:00.836   \n",
       "3  8131A3E9C9B9D706  electric_bike  2023-06-20 16:41:37.460   \n",
       "4  9599302368098F9D   classic_bike  2023-06-16 20:30:31.648   \n",
       "\n",
       "                  ended_at       start_station_name start_station_id  \\\n",
       "0  2023-06-13 08:43:31.038         W 20 St & 10 Ave          6306.01   \n",
       "1  2023-06-02 16:28:59.511         W 20 St & 10 Ave          6306.01   \n",
       "2  2023-06-18 18:46:14.601          W 54 St & 9 Ave          6920.03   \n",
       "3  2023-06-20 16:46:17.126  Lafayette St & Grand St          5422.09   \n",
       "4  2023-06-16 20:36:52.546  Lafayette St & Grand St          5422.09   \n",
       "\n",
       "          end_station_name end_station_id  start_lat  start_lng    end_lat  \\\n",
       "0          5 Ave & E 29 St        6248.06  40.745686 -74.005141  40.745168   \n",
       "1          5 Ave & E 29 St        6248.06  40.745686 -74.005141  40.745168   \n",
       "2      Mott St & Prince St        5561.04  40.765825 -73.986605  40.723180   \n",
       "3  Allen St & Rivington St        5414.06  40.720403 -73.998831  40.720196   \n",
       "4  Allen St & Rivington St        5414.06  40.720280 -73.998790  40.720196   \n",
       "\n",
       "     end_lng member_casual  \n",
       "0 -73.986831        member  \n",
       "1 -73.986831        member  \n",
       "2 -73.994800        member  \n",
       "3 -73.989978        member  \n",
       "4 -73.989978        member  "
      ]
     },
     "execution_count": 2,
     "metadata": {},
     "output_type": "execute_result"
    }
   ],
   "source": [
    "#import june 2024 data\n",
    "june_data1 = pd.read_csv('202306-citibike-tripdata_1.csv')\n",
    "\n",
    "#convert to dataframe\n",
    "june_data1_df = pd.DataFrame(june_data1)\n",
    "\n",
    "#check data\n",
    "june_data1_df.head()\n"
   ]
  },
  {
   "cell_type": "code",
   "execution_count": 3,
   "metadata": {},
   "outputs": [
    {
     "data": {
      "text/plain": [
       "ride_id                object\n",
       "rideable_type          object\n",
       "started_at             object\n",
       "ended_at               object\n",
       "start_station_name     object\n",
       "start_station_id       object\n",
       "end_station_name       object\n",
       "end_station_id         object\n",
       "start_lat             float64\n",
       "start_lng             float64\n",
       "end_lat               float64\n",
       "end_lng               float64\n",
       "member_casual          object\n",
       "dtype: object"
      ]
     },
     "execution_count": 3,
     "metadata": {},
     "output_type": "execute_result"
    }
   ],
   "source": [
    "#check data types\n",
    "june_data1_df.dtypes\n"
   ]
  },
  {
   "cell_type": "code",
   "execution_count": 4,
   "metadata": {},
   "outputs": [
    {
     "data": {
      "text/plain": [
       "ride_id                       object\n",
       "rideable_type                 object\n",
       "started_at            datetime64[ns]\n",
       "ended_at              datetime64[ns]\n",
       "start_station_name            object\n",
       "start_station_id              object\n",
       "end_station_name              object\n",
       "end_station_id                object\n",
       "start_lat                    float64\n",
       "start_lng                    float64\n",
       "end_lat                      float64\n",
       "end_lng                      float64\n",
       "member_casual                 object\n",
       "dtype: object"
      ]
     },
     "execution_count": 4,
     "metadata": {},
     "output_type": "execute_result"
    }
   ],
   "source": [
    "#convert started_at and ended_at to datetime\n",
    "june_data1_df['started_at'] = pd.to_datetime(june_data1_df['started_at'])\n",
    "june_data1_df['ended_at'] = pd.to_datetime(june_data1_df['ended_at'])\n",
    "\n",
    "#convert start_station_name and end_station_name to string\n",
    "june_data1_df['start_station_name'] = june_data1_df['start_station_name'].astype(str)\n",
    "june_data1_df['end_station_name'] = june_data1_df['end_station_name'].astype(str)\n",
    "\n",
    "#check data types\n",
    "june_data1_df.dtypes"
   ]
  },
  {
   "cell_type": "code",
   "execution_count": 5,
   "metadata": {},
   "outputs": [
    {
     "name": "stderr",
     "output_type": "stream",
     "text": [
      "C:\\Users\\hbour\\AppData\\Local\\Temp\\ipykernel_22132\\1234996439.py:2: DtypeWarning: Columns (5,7) have mixed types. Specify dtype option on import or set low_memory=False.\n",
      "  june_data2 = pd.read_csv('202306-citibike-tripdata_2.csv')\n",
      "C:\\Users\\hbour\\AppData\\Local\\Temp\\ipykernel_22132\\1234996439.py:6: DtypeWarning: Columns (5,7) have mixed types. Specify dtype option on import or set low_memory=False.\n",
      "  june_data3 = pd.read_csv('202306-citibike-tripdata_3.csv')\n",
      "C:\\Users\\hbour\\AppData\\Local\\Temp\\ipykernel_22132\\1234996439.py:10: DtypeWarning: Columns (5,7) have mixed types. Specify dtype option on import or set low_memory=False.\n",
      "  june_data4 = pd.read_csv('202306-citibike-tripdata_4.csv')\n"
     ]
    }
   ],
   "source": [
    "#repeat for the remaining csv files\n",
    "june_data2 = pd.read_csv('202306-citibike-tripdata_2.csv')\n",
    "june_data2_df = pd.DataFrame(june_data2)\n",
    "\n",
    "\n",
    "june_data3 = pd.read_csv('202306-citibike-tripdata_3.csv')\n",
    "june_data3_df = pd.DataFrame(june_data3)\n",
    "\n",
    "\n",
    "june_data4 = pd.read_csv('202306-citibike-tripdata_4.csv')\n",
    "june_data4_df = pd.DataFrame(june_data4)\n"
   ]
  },
  {
   "cell_type": "code",
   "execution_count": 6,
   "metadata": {},
   "outputs": [],
   "source": [
    "#change dtypes and remove missing values for remaining csv files\n",
    "\n",
    "#june_data2\n",
    "june_data2_df['started_at'] = pd.to_datetime(june_data2_df['started_at'])\n",
    "june_data2_df['ended_at'] = pd.to_datetime(june_data2_df['ended_at'])\n",
    "june_data2_df['start_station_name'] = june_data2_df['start_station_name'].astype(str)\n",
    "june_data2_df['end_station_name'] = june_data2_df['end_station_name'].astype(str)\n",
    "\n",
    "\n",
    "#june_data3\n",
    "june_data3_df['started_at'] = pd.to_datetime(june_data3_df['started_at'])\n",
    "june_data3_df['ended_at'] = pd.to_datetime(june_data3_df['ended_at'])\n",
    "june_data3_df['start_station_name'] = june_data3_df['start_station_name'].astype(str)\n",
    "june_data3_df['end_station_name'] = june_data3_df['end_station_name'].astype(str)\n",
    "\n",
    "\n",
    "#june_data4\n",
    "june_data4_df['started_at'] = pd.to_datetime(june_data4_df['started_at'])\n",
    "june_data4_df['ended_at'] = pd.to_datetime(june_data4_df['ended_at'])\n",
    "june_data4_df['start_station_name'] = june_data4_df['start_station_name'].astype(str)\n",
    "june_data4_df['end_station_name'] = june_data4_df['end_station_name'].astype(str)\n"
   ]
  },
  {
   "cell_type": "code",
   "execution_count": 8,
   "metadata": {},
   "outputs": [
    {
     "data": {
      "application/vnd.microsoft.datawrangler.viewer.v0+json": {
       "columns": [
        {
         "name": "index",
         "rawType": "int64",
         "type": "integer"
        },
        {
         "name": "ride_id",
         "rawType": "object",
         "type": "string"
        },
        {
         "name": "rideable_type",
         "rawType": "object",
         "type": "string"
        },
        {
         "name": "started_at",
         "rawType": "datetime64[ns]",
         "type": "datetime"
        },
        {
         "name": "ended_at",
         "rawType": "datetime64[ns]",
         "type": "datetime"
        },
        {
         "name": "start_station_name",
         "rawType": "object",
         "type": "string"
        },
        {
         "name": "start_station_id",
         "rawType": "object",
         "type": "unknown"
        },
        {
         "name": "end_station_name",
         "rawType": "object",
         "type": "string"
        },
        {
         "name": "end_station_id",
         "rawType": "object",
         "type": "string"
        },
        {
         "name": "start_lat",
         "rawType": "float64",
         "type": "float"
        },
        {
         "name": "start_lng",
         "rawType": "float64",
         "type": "float"
        },
        {
         "name": "end_lat",
         "rawType": "float64",
         "type": "float"
        },
        {
         "name": "end_lng",
         "rawType": "float64",
         "type": "float"
        },
        {
         "name": "member_casual",
         "rawType": "object",
         "type": "string"
        }
       ],
       "conversionMethod": "pd.DataFrame",
       "ref": "be394d3c-4bc6-438a-85b7-584f4cefb9d4",
       "rows": [
        [
         "0",
         "42AB78322C5F0831",
         "classic_bike",
         "2023-06-13 08:34:46.657000",
         "2023-06-13 08:43:31.038000",
         "W 20 St & 10 Ave",
         "6306.01",
         "5 Ave & E 29 St",
         "6248.06",
         "40.745686",
         "-74.005141",
         "40.7451677",
         "-73.98683077",
         "member"
        ],
        [
         "1",
         "101B095C96F84BD5",
         "classic_bike",
         "2023-06-02 16:19:09.639000",
         "2023-06-02 16:28:59.511000",
         "W 20 St & 10 Ave",
         "6306.01",
         "5 Ave & E 29 St",
         "6248.06",
         "40.745686",
         "-74.005141",
         "40.7451677",
         "-73.98683077",
         "member"
        ],
        [
         "2",
         "88752D6D71719632",
         "electric_bike",
         "2023-06-18 18:24:00.836000",
         "2023-06-18 18:46:14.601000",
         "W 54 St & 9 Ave",
         "6920.03",
         "Mott St & Prince St",
         "5561.04",
         "40.765825033",
         "-73.98660481",
         "40.72317958",
         "-73.99480012",
         "member"
        ],
        [
         "3",
         "8131A3E9C9B9D706",
         "electric_bike",
         "2023-06-20 16:41:37.460000",
         "2023-06-20 16:46:17.126000",
         "Lafayette St & Grand St",
         "5422.09",
         "Allen St & Rivington St",
         "5414.06",
         "40.720402598",
         "-73.998831034",
         "40.72019576",
         "-73.98997825",
         "member"
        ],
        [
         "4",
         "9599302368098F9D",
         "classic_bike",
         "2023-06-16 20:30:31.648000",
         "2023-06-16 20:36:52.546000",
         "Lafayette St & Grand St",
         "5422.09",
         "Allen St & Rivington St",
         "5414.06",
         "40.72028",
         "-73.99879",
         "40.72019576",
         "-73.98997825",
         "member"
        ]
       ],
       "shape": {
        "columns": 13,
        "rows": 5
       }
      },
      "text/html": [
       "<div>\n",
       "<style scoped>\n",
       "    .dataframe tbody tr th:only-of-type {\n",
       "        vertical-align: middle;\n",
       "    }\n",
       "\n",
       "    .dataframe tbody tr th {\n",
       "        vertical-align: top;\n",
       "    }\n",
       "\n",
       "    .dataframe thead th {\n",
       "        text-align: right;\n",
       "    }\n",
       "</style>\n",
       "<table border=\"1\" class=\"dataframe\">\n",
       "  <thead>\n",
       "    <tr style=\"text-align: right;\">\n",
       "      <th></th>\n",
       "      <th>ride_id</th>\n",
       "      <th>rideable_type</th>\n",
       "      <th>started_at</th>\n",
       "      <th>ended_at</th>\n",
       "      <th>start_station_name</th>\n",
       "      <th>start_station_id</th>\n",
       "      <th>end_station_name</th>\n",
       "      <th>end_station_id</th>\n",
       "      <th>start_lat</th>\n",
       "      <th>start_lng</th>\n",
       "      <th>end_lat</th>\n",
       "      <th>end_lng</th>\n",
       "      <th>member_casual</th>\n",
       "    </tr>\n",
       "  </thead>\n",
       "  <tbody>\n",
       "    <tr>\n",
       "      <th>0</th>\n",
       "      <td>42AB78322C5F0831</td>\n",
       "      <td>classic_bike</td>\n",
       "      <td>2023-06-13 08:34:46.657</td>\n",
       "      <td>2023-06-13 08:43:31.038</td>\n",
       "      <td>W 20 St &amp; 10 Ave</td>\n",
       "      <td>6306.01</td>\n",
       "      <td>5 Ave &amp; E 29 St</td>\n",
       "      <td>6248.06</td>\n",
       "      <td>40.745686</td>\n",
       "      <td>-74.005141</td>\n",
       "      <td>40.745168</td>\n",
       "      <td>-73.986831</td>\n",
       "      <td>member</td>\n",
       "    </tr>\n",
       "    <tr>\n",
       "      <th>1</th>\n",
       "      <td>101B095C96F84BD5</td>\n",
       "      <td>classic_bike</td>\n",
       "      <td>2023-06-02 16:19:09.639</td>\n",
       "      <td>2023-06-02 16:28:59.511</td>\n",
       "      <td>W 20 St &amp; 10 Ave</td>\n",
       "      <td>6306.01</td>\n",
       "      <td>5 Ave &amp; E 29 St</td>\n",
       "      <td>6248.06</td>\n",
       "      <td>40.745686</td>\n",
       "      <td>-74.005141</td>\n",
       "      <td>40.745168</td>\n",
       "      <td>-73.986831</td>\n",
       "      <td>member</td>\n",
       "    </tr>\n",
       "    <tr>\n",
       "      <th>2</th>\n",
       "      <td>88752D6D71719632</td>\n",
       "      <td>electric_bike</td>\n",
       "      <td>2023-06-18 18:24:00.836</td>\n",
       "      <td>2023-06-18 18:46:14.601</td>\n",
       "      <td>W 54 St &amp; 9 Ave</td>\n",
       "      <td>6920.03</td>\n",
       "      <td>Mott St &amp; Prince St</td>\n",
       "      <td>5561.04</td>\n",
       "      <td>40.765825</td>\n",
       "      <td>-73.986605</td>\n",
       "      <td>40.723180</td>\n",
       "      <td>-73.994800</td>\n",
       "      <td>member</td>\n",
       "    </tr>\n",
       "    <tr>\n",
       "      <th>3</th>\n",
       "      <td>8131A3E9C9B9D706</td>\n",
       "      <td>electric_bike</td>\n",
       "      <td>2023-06-20 16:41:37.460</td>\n",
       "      <td>2023-06-20 16:46:17.126</td>\n",
       "      <td>Lafayette St &amp; Grand St</td>\n",
       "      <td>5422.09</td>\n",
       "      <td>Allen St &amp; Rivington St</td>\n",
       "      <td>5414.06</td>\n",
       "      <td>40.720403</td>\n",
       "      <td>-73.998831</td>\n",
       "      <td>40.720196</td>\n",
       "      <td>-73.989978</td>\n",
       "      <td>member</td>\n",
       "    </tr>\n",
       "    <tr>\n",
       "      <th>4</th>\n",
       "      <td>9599302368098F9D</td>\n",
       "      <td>classic_bike</td>\n",
       "      <td>2023-06-16 20:30:31.648</td>\n",
       "      <td>2023-06-16 20:36:52.546</td>\n",
       "      <td>Lafayette St &amp; Grand St</td>\n",
       "      <td>5422.09</td>\n",
       "      <td>Allen St &amp; Rivington St</td>\n",
       "      <td>5414.06</td>\n",
       "      <td>40.720280</td>\n",
       "      <td>-73.998790</td>\n",
       "      <td>40.720196</td>\n",
       "      <td>-73.989978</td>\n",
       "      <td>member</td>\n",
       "    </tr>\n",
       "  </tbody>\n",
       "</table>\n",
       "</div>"
      ],
      "text/plain": [
       "            ride_id  rideable_type              started_at  \\\n",
       "0  42AB78322C5F0831   classic_bike 2023-06-13 08:34:46.657   \n",
       "1  101B095C96F84BD5   classic_bike 2023-06-02 16:19:09.639   \n",
       "2  88752D6D71719632  electric_bike 2023-06-18 18:24:00.836   \n",
       "3  8131A3E9C9B9D706  electric_bike 2023-06-20 16:41:37.460   \n",
       "4  9599302368098F9D   classic_bike 2023-06-16 20:30:31.648   \n",
       "\n",
       "                 ended_at       start_station_name start_station_id  \\\n",
       "0 2023-06-13 08:43:31.038         W 20 St & 10 Ave          6306.01   \n",
       "1 2023-06-02 16:28:59.511         W 20 St & 10 Ave          6306.01   \n",
       "2 2023-06-18 18:46:14.601          W 54 St & 9 Ave          6920.03   \n",
       "3 2023-06-20 16:46:17.126  Lafayette St & Grand St          5422.09   \n",
       "4 2023-06-16 20:36:52.546  Lafayette St & Grand St          5422.09   \n",
       "\n",
       "          end_station_name end_station_id  start_lat  start_lng    end_lat  \\\n",
       "0          5 Ave & E 29 St        6248.06  40.745686 -74.005141  40.745168   \n",
       "1          5 Ave & E 29 St        6248.06  40.745686 -74.005141  40.745168   \n",
       "2      Mott St & Prince St        5561.04  40.765825 -73.986605  40.723180   \n",
       "3  Allen St & Rivington St        5414.06  40.720403 -73.998831  40.720196   \n",
       "4  Allen St & Rivington St        5414.06  40.720280 -73.998790  40.720196   \n",
       "\n",
       "     end_lng member_casual  \n",
       "0 -73.986831        member  \n",
       "1 -73.986831        member  \n",
       "2 -73.994800        member  \n",
       "3 -73.989978        member  \n",
       "4 -73.989978        member  "
      ]
     },
     "execution_count": 8,
     "metadata": {},
     "output_type": "execute_result"
    }
   ],
   "source": [
    "#concatenate all dataframes\n",
    "june_data_df = pd.concat([june_data1_df, june_data2_df, june_data3_df, june_data4_df])\n",
    "\n",
    "#check data\n",
    "june_data_df.head()"
   ]
  },
  {
   "cell_type": "markdown",
   "metadata": {},
   "source": [
    "Isolate the data to show Citibike usage during the weekend of NYC Pride Festival 2023\n",
    "June 23, 2023 - June 25, 2023"
   ]
  },
  {
   "cell_type": "code",
   "execution_count": 9,
   "metadata": {},
   "outputs": [
    {
     "data": {
      "application/vnd.microsoft.datawrangler.viewer.v0+json": {
       "columns": [
        {
         "name": "index",
         "rawType": "int64",
         "type": "integer"
        },
        {
         "name": "ride_id",
         "rawType": "object",
         "type": "string"
        },
        {
         "name": "rideable_type",
         "rawType": "object",
         "type": "string"
        },
        {
         "name": "started_at",
         "rawType": "datetime64[ns]",
         "type": "datetime"
        },
        {
         "name": "ended_at",
         "rawType": "datetime64[ns]",
         "type": "datetime"
        },
        {
         "name": "start_station_name",
         "rawType": "object",
         "type": "string"
        },
        {
         "name": "start_station_id",
         "rawType": "object",
         "type": "unknown"
        },
        {
         "name": "end_station_name",
         "rawType": "object",
         "type": "string"
        },
        {
         "name": "end_station_id",
         "rawType": "object",
         "type": "string"
        },
        {
         "name": "start_lat",
         "rawType": "float64",
         "type": "float"
        },
        {
         "name": "start_lng",
         "rawType": "float64",
         "type": "float"
        },
        {
         "name": "end_lat",
         "rawType": "float64",
         "type": "float"
        },
        {
         "name": "end_lng",
         "rawType": "float64",
         "type": "float"
        },
        {
         "name": "member_casual",
         "rawType": "object",
         "type": "string"
        }
       ],
       "conversionMethod": "pd.DataFrame",
       "ref": "e74d4715-5248-45c5-96a9-366e4e6a299d",
       "rows": [
        [
         "35",
         "85C25D752209BE10",
         "classic_bike",
         "2023-06-25 15:34:56.514000",
         "2023-06-25 15:41:52.901000",
         "E 40 St & Park Ave",
         "6432.11",
         "W 52 St & 5 Ave",
         "6700.01",
         "40.750756",
         "-73.978326",
         "40.75992262",
         "-73.97648516",
         "member"
        ],
        [
         "41",
         "D2443436DDD8A295",
         "classic_bike",
         "2023-06-25 16:05:46.616000",
         "2023-06-25 17:05:03.455000",
         "Pleasant Ave & E 116 St",
         "7450.05",
         "28 St & 41 Ave",
         "6462.19",
         "40.7949879",
         "-73.9333349",
         "40.751047",
         "-73.93797",
         "member"
        ],
        [
         "57",
         "C74FC11925E2666F",
         "classic_bike",
         "2023-06-25 17:59:16.287000",
         "2023-06-25 18:02:32.612000",
         "Lenox Ave & W 117 St",
         "7655.22",
         "Frederick Douglass Blvd & W 115 St",
         "7658.13",
         "40.8025566",
         "-73.9490782",
         "40.8038654",
         "-73.9559308",
         "member"
        ],
        [
         "58",
         "48ACB7A1BA2EE3AE",
         "electric_bike",
         "2023-06-25 19:27:02.819000",
         "2023-06-25 20:05:57.900000",
         "Morris Ave & E 171 St",
         "8209.01",
         "College Ave & E 169 St",
         "8141.05",
         "40.839052081",
         "-73.910796165",
         "40.835122799036405",
         "-73.91196817159653",
         "member"
        ],
        [
         "66",
         "F0DC537A7FDACA73",
         "electric_bike",
         "2023-06-24 12:50:28.669000",
         "2023-06-24 13:44:20.180000",
         "W 54 St & 9 Ave",
         "6920.03",
         "E 40 St & Park Ave",
         "6432.11",
         "40.765836954",
         "-73.98690021",
         "40.750756",
         "-73.978326",
         "casual"
        ]
       ],
       "shape": {
        "columns": 13,
        "rows": 5
       }
      },
      "text/html": [
       "<div>\n",
       "<style scoped>\n",
       "    .dataframe tbody tr th:only-of-type {\n",
       "        vertical-align: middle;\n",
       "    }\n",
       "\n",
       "    .dataframe tbody tr th {\n",
       "        vertical-align: top;\n",
       "    }\n",
       "\n",
       "    .dataframe thead th {\n",
       "        text-align: right;\n",
       "    }\n",
       "</style>\n",
       "<table border=\"1\" class=\"dataframe\">\n",
       "  <thead>\n",
       "    <tr style=\"text-align: right;\">\n",
       "      <th></th>\n",
       "      <th>ride_id</th>\n",
       "      <th>rideable_type</th>\n",
       "      <th>started_at</th>\n",
       "      <th>ended_at</th>\n",
       "      <th>start_station_name</th>\n",
       "      <th>start_station_id</th>\n",
       "      <th>end_station_name</th>\n",
       "      <th>end_station_id</th>\n",
       "      <th>start_lat</th>\n",
       "      <th>start_lng</th>\n",
       "      <th>end_lat</th>\n",
       "      <th>end_lng</th>\n",
       "      <th>member_casual</th>\n",
       "    </tr>\n",
       "  </thead>\n",
       "  <tbody>\n",
       "    <tr>\n",
       "      <th>35</th>\n",
       "      <td>85C25D752209BE10</td>\n",
       "      <td>classic_bike</td>\n",
       "      <td>2023-06-25 15:34:56.514</td>\n",
       "      <td>2023-06-25 15:41:52.901</td>\n",
       "      <td>E 40 St &amp; Park Ave</td>\n",
       "      <td>6432.11</td>\n",
       "      <td>W 52 St &amp; 5 Ave</td>\n",
       "      <td>6700.01</td>\n",
       "      <td>40.750756</td>\n",
       "      <td>-73.978326</td>\n",
       "      <td>40.759923</td>\n",
       "      <td>-73.976485</td>\n",
       "      <td>member</td>\n",
       "    </tr>\n",
       "    <tr>\n",
       "      <th>41</th>\n",
       "      <td>D2443436DDD8A295</td>\n",
       "      <td>classic_bike</td>\n",
       "      <td>2023-06-25 16:05:46.616</td>\n",
       "      <td>2023-06-25 17:05:03.455</td>\n",
       "      <td>Pleasant Ave &amp; E 116 St</td>\n",
       "      <td>7450.05</td>\n",
       "      <td>28 St &amp; 41 Ave</td>\n",
       "      <td>6462.19</td>\n",
       "      <td>40.794988</td>\n",
       "      <td>-73.933335</td>\n",
       "      <td>40.751047</td>\n",
       "      <td>-73.937970</td>\n",
       "      <td>member</td>\n",
       "    </tr>\n",
       "    <tr>\n",
       "      <th>57</th>\n",
       "      <td>C74FC11925E2666F</td>\n",
       "      <td>classic_bike</td>\n",
       "      <td>2023-06-25 17:59:16.287</td>\n",
       "      <td>2023-06-25 18:02:32.612</td>\n",
       "      <td>Lenox Ave &amp; W 117 St</td>\n",
       "      <td>7655.22</td>\n",
       "      <td>Frederick Douglass Blvd &amp; W 115 St</td>\n",
       "      <td>7658.13</td>\n",
       "      <td>40.802557</td>\n",
       "      <td>-73.949078</td>\n",
       "      <td>40.803865</td>\n",
       "      <td>-73.955931</td>\n",
       "      <td>member</td>\n",
       "    </tr>\n",
       "    <tr>\n",
       "      <th>58</th>\n",
       "      <td>48ACB7A1BA2EE3AE</td>\n",
       "      <td>electric_bike</td>\n",
       "      <td>2023-06-25 19:27:02.819</td>\n",
       "      <td>2023-06-25 20:05:57.900</td>\n",
       "      <td>Morris Ave &amp; E 171 St</td>\n",
       "      <td>8209.01</td>\n",
       "      <td>College Ave &amp; E 169 St</td>\n",
       "      <td>8141.05</td>\n",
       "      <td>40.839052</td>\n",
       "      <td>-73.910796</td>\n",
       "      <td>40.835123</td>\n",
       "      <td>-73.911968</td>\n",
       "      <td>member</td>\n",
       "    </tr>\n",
       "    <tr>\n",
       "      <th>66</th>\n",
       "      <td>F0DC537A7FDACA73</td>\n",
       "      <td>electric_bike</td>\n",
       "      <td>2023-06-24 12:50:28.669</td>\n",
       "      <td>2023-06-24 13:44:20.180</td>\n",
       "      <td>W 54 St &amp; 9 Ave</td>\n",
       "      <td>6920.03</td>\n",
       "      <td>E 40 St &amp; Park Ave</td>\n",
       "      <td>6432.11</td>\n",
       "      <td>40.765837</td>\n",
       "      <td>-73.986900</td>\n",
       "      <td>40.750756</td>\n",
       "      <td>-73.978326</td>\n",
       "      <td>casual</td>\n",
       "    </tr>\n",
       "  </tbody>\n",
       "</table>\n",
       "</div>"
      ],
      "text/plain": [
       "             ride_id  rideable_type              started_at  \\\n",
       "35  85C25D752209BE10   classic_bike 2023-06-25 15:34:56.514   \n",
       "41  D2443436DDD8A295   classic_bike 2023-06-25 16:05:46.616   \n",
       "57  C74FC11925E2666F   classic_bike 2023-06-25 17:59:16.287   \n",
       "58  48ACB7A1BA2EE3AE  electric_bike 2023-06-25 19:27:02.819   \n",
       "66  F0DC537A7FDACA73  electric_bike 2023-06-24 12:50:28.669   \n",
       "\n",
       "                  ended_at       start_station_name start_station_id  \\\n",
       "35 2023-06-25 15:41:52.901       E 40 St & Park Ave          6432.11   \n",
       "41 2023-06-25 17:05:03.455  Pleasant Ave & E 116 St          7450.05   \n",
       "57 2023-06-25 18:02:32.612     Lenox Ave & W 117 St          7655.22   \n",
       "58 2023-06-25 20:05:57.900    Morris Ave & E 171 St          8209.01   \n",
       "66 2023-06-24 13:44:20.180          W 54 St & 9 Ave          6920.03   \n",
       "\n",
       "                      end_station_name end_station_id  start_lat  start_lng  \\\n",
       "35                     W 52 St & 5 Ave        6700.01  40.750756 -73.978326   \n",
       "41                      28 St & 41 Ave        6462.19  40.794988 -73.933335   \n",
       "57  Frederick Douglass Blvd & W 115 St        7658.13  40.802557 -73.949078   \n",
       "58              College Ave & E 169 St        8141.05  40.839052 -73.910796   \n",
       "66                  E 40 St & Park Ave        6432.11  40.765837 -73.986900   \n",
       "\n",
       "      end_lat    end_lng member_casual  \n",
       "35  40.759923 -73.976485        member  \n",
       "41  40.751047 -73.937970        member  \n",
       "57  40.803865 -73.955931        member  \n",
       "58  40.835123 -73.911968        member  \n",
       "66  40.750756 -73.978326        casual  "
      ]
     },
     "execution_count": 9,
     "metadata": {},
     "output_type": "execute_result"
    }
   ],
   "source": [
    "#isloate data for specified date range\n",
    "pride_weekend_2023 = june_data_df[(june_data_df['started_at'] >= '2023-06-23 00:00:00') & (june_data_df['ended_at'] <= '2023-06-25 23:59:59')]\n",
    "pride_weekend_2023.head()"
   ]
  },
  {
   "cell_type": "code",
   "execution_count": 10,
   "metadata": {},
   "outputs": [],
   "source": [
    "#export to csv\n",
    "pride_weekend_2023.to_csv('pride_2023.csv', index=False)"
   ]
  }
 ],
 "metadata": {
  "kernelspec": {
   "display_name": "dev_boot",
   "language": "python",
   "name": "python3"
  },
  "language_info": {
   "codemirror_mode": {
    "name": "ipython",
    "version": 3
   },
   "file_extension": ".py",
   "mimetype": "text/x-python",
   "name": "python",
   "nbconvert_exporter": "python",
   "pygments_lexer": "ipython3",
   "version": "3.10.14"
  }
 },
 "nbformat": 4,
 "nbformat_minor": 2
}
